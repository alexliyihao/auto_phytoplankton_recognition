{
  "nbformat": 4,
  "nbformat_minor": 0,
  "metadata": {
    "colab": {
      "name": "LEDO_CSV.ipynb",
      "provenance": [],
      "collapsed_sections": []
    },
    "kernelspec": {
      "name": "python3",
      "display_name": "Python 3"
    }
  },
  "cells": [
    {
      "cell_type": "code",
      "metadata": {
        "id": "h1dXbR7JzWhs",
        "colab": {
          "base_uri": "https://localhost:8080/"
        },
        "outputId": "7ef7c41d-d246-47c4-bf6a-5381fc7e483b"
      },
      "source": [
        "from google.colab import drive\n",
        "drive.mount(\"/content/drive\")"
      ],
      "execution_count": null,
      "outputs": [
        {
          "output_type": "stream",
          "text": [
            "Drive already mounted at /content/drive; to attempt to forcibly remount, call drive.mount(\"/content/drive\", force_remount=True).\n"
          ],
          "name": "stdout"
        }
      ]
    },
    {
      "cell_type": "code",
      "metadata": {
        "colab": {
          "base_uri": "https://localhost:8080/"
        },
        "id": "7_XW5Tg6QGiI",
        "outputId": "f4f03885-3952-4c62-a86c-9bf7bed13239"
      },
      "source": [
        "!git clone https://github.com/alexliyihao/auto_phytoplankton_recognition.git"
      ],
      "execution_count": null,
      "outputs": [
        {
          "output_type": "stream",
          "text": [
            "fatal: destination path 'auto_phytoplankton_recognition' already exists and is not an empty directory.\n"
          ],
          "name": "stdout"
        }
      ]
    },
    {
      "cell_type": "code",
      "metadata": {
        "colab": {
          "base_uri": "https://localhost:8080/"
        },
        "id": "FlLPgHQSXdCc",
        "outputId": "9cd5dec7-04e5-45e4-d8fb-78f215fb6f45"
      },
      "source": [
        "pip install fastcluster"
      ],
      "execution_count": null,
      "outputs": [
        {
          "output_type": "stream",
          "text": [
            "Requirement already satisfied: fastcluster in /usr/local/lib/python3.6/dist-packages (1.1.26)\n",
            "Requirement already satisfied: numpy>=1.9 in /usr/local/lib/python3.6/dist-packages (from fastcluster) (1.18.5)\n"
          ],
          "name": "stdout"
        }
      ]
    },
    {
      "cell_type": "code",
      "metadata": {
        "id": "4YlLfQv2QKSw"
      },
      "source": [
        "import glob\n",
        "import pandas as pd\n",
        "import numpy as np\n",
        "import matplotlib.pyplot as plt\n",
        "import seaborn as sns\n",
        "sns.set_style(\"darkgrid\")\n",
        "import copy\n",
        "import os\n",
        "from scipy.cluster import hierarchy\n",
        "from tqdm.notebook import tqdm\n",
        "from auto_phytoplankton_recognition.utils import extract_from_tif\n",
        "from auto_phytoplankton_recognition import clustering"
      ],
      "execution_count": null,
      "outputs": []
    },
    {
      "cell_type": "code",
      "metadata": {
        "id": "zyermU-nzcEn",
        "colab": {
          "base_uri": "https://localhost:8080/"
        },
        "outputId": "23fb6ac3-572f-4bf9-be19-d52feff3497a"
      },
      "source": [
        "!ls \"/content/drive/My Drive/Machine Learning/FlowCAM Files/KORUS/Select Files\""
      ],
      "execution_count": null,
      "outputs": [
        {
          "output_type": "stream",
          "text": [
            "KORUS-11-3-2am\t  KORUS-18-2m  KORUS-30-2am\t\tKORUS-51-5-2m\n",
            "KORUS-11-4-2.5am  KORUS-24-2m  KORUS-31-2m\t\tKORUS-54-2am\n",
            "KORUS-13-2m\t  KORUS-27-2m  KORUS-51-3-2bm\n",
            "KORUS-14-2m\t  KORUS-29-2m  KORUS-51-4-2m-NOCTILUCA\n"
          ],
          "name": "stdout"
        }
      ]
    },
    {
      "cell_type": "code",
      "metadata": {
        "id": "xx44lz0yzyWu"
      },
      "source": [
        "# load the data_export.csv from the root path\n",
        "csv_path = glob.glob(\"/content/drive/My Drive/Machine Learning/FlowCAM Files/KORUS/Select Files/**/data_export.csv\")\n",
        "df = pd.read_csv(csv_path[0])\n",
        "for file in csv_path[1:]:\n",
        "    df = pd.concat((df,pd.read_csv(file)))"
      ],
      "execution_count": null,
      "outputs": []
    },
    {
      "cell_type": "code",
      "metadata": {
        "id": "znEvcA9K25V_"
      },
      "source": [
        "# extract the origin of each image\n",
        "origin = df[[\"Particle ID\", \"Image File\"]]\n",
        "df = df.drop([\"Particle ID\", \"Image File\"], axis = 1)"
      ],
      "execution_count": null,
      "outputs": []
    },
    {
      "cell_type": "code",
      "metadata": {
        "id": "hl8Y73kY3oYb",
        "colab": {
          "base_uri": "https://localhost:8080/",
          "height": 513
        },
        "outputId": "df69eb50-387f-4046-cd79-f3eaceecacae"
      },
      "source": [
        "df.head()"
      ],
      "execution_count": null,
      "outputs": [
        {
          "output_type": "execute_result",
          "data": {
            "text/html": [
              "<div>\n",
              "<style scoped>\n",
              "    .dataframe tbody tr th:only-of-type {\n",
              "        vertical-align: middle;\n",
              "    }\n",
              "\n",
              "    .dataframe tbody tr th {\n",
              "        vertical-align: top;\n",
              "    }\n",
              "\n",
              "    .dataframe thead th {\n",
              "        text-align: right;\n",
              "    }\n",
              "</style>\n",
              "<table border=\"1\" class=\"dataframe\">\n",
              "  <thead>\n",
              "    <tr style=\"text-align: right;\">\n",
              "      <th></th>\n",
              "      <th>Area (ABD)</th>\n",
              "      <th>Area (Filled)</th>\n",
              "      <th>Aspect Ratio</th>\n",
              "      <th>Average Blue</th>\n",
              "      <th>Average Green</th>\n",
              "      <th>Average Red</th>\n",
              "      <th>Calibration Factor</th>\n",
              "      <th>Calibration Image</th>\n",
              "      <th>Camera</th>\n",
              "      <th>Capture X</th>\n",
              "      <th>Capture Y</th>\n",
              "      <th>Ch1 Area</th>\n",
              "      <th>Ch1 Peak</th>\n",
              "      <th>Ch1 Width</th>\n",
              "      <th>Ch2 Area</th>\n",
              "      <th>Ch2 Peak</th>\n",
              "      <th>Ch2 Width</th>\n",
              "      <th>Ch2/Ch1 Ratio</th>\n",
              "      <th>Circle Fit</th>\n",
              "      <th>Circularity</th>\n",
              "      <th>Circularity (Hu)</th>\n",
              "      <th>Compactness</th>\n",
              "      <th>Convex Perimeter</th>\n",
              "      <th>Convexity</th>\n",
              "      <th>Date</th>\n",
              "      <th>Diameter (ABD)</th>\n",
              "      <th>Diameter (ESD)</th>\n",
              "      <th>Diameter (FD)</th>\n",
              "      <th>Edge Gradient</th>\n",
              "      <th>Elapsed Time</th>\n",
              "      <th>Elongation</th>\n",
              "      <th>Feret Angle Max</th>\n",
              "      <th>Feret Angle Min</th>\n",
              "      <th>Fiber Curl</th>\n",
              "      <th>Fiber Straightness</th>\n",
              "      <th>Filter Score</th>\n",
              "      <th>Geodesic Aspect Ratio</th>\n",
              "      <th>Geodesic Length</th>\n",
              "      <th>Geodesic Thickness</th>\n",
              "      <th>Image Height</th>\n",
              "      <th>Image Width</th>\n",
              "      <th>Image X</th>\n",
              "      <th>Image Y</th>\n",
              "      <th>Intensity</th>\n",
              "      <th>Length</th>\n",
              "      <th>Original Reference ID</th>\n",
              "      <th>Particles Per Chain</th>\n",
              "      <th>Perimeter</th>\n",
              "      <th>Ratio Blue/Green</th>\n",
              "      <th>Ratio Red/Blue</th>\n",
              "      <th>Ratio Red/Green</th>\n",
              "      <th>Roughness</th>\n",
              "      <th>Scatter Area</th>\n",
              "      <th>Scatter Peak</th>\n",
              "      <th>Scatter Width</th>\n",
              "      <th>Sigma Intensity</th>\n",
              "      <th>Source Image</th>\n",
              "      <th>Sphere Complement</th>\n",
              "      <th>Sphere Count</th>\n",
              "      <th>Sphere Unknown</th>\n",
              "      <th>Sphere Volume</th>\n",
              "      <th>Sum Intensity</th>\n",
              "      <th>Symmetry</th>\n",
              "      <th>Time</th>\n",
              "      <th>Timestamp</th>\n",
              "      <th>Transparency</th>\n",
              "      <th>Volume (ABD)</th>\n",
              "      <th>Volume (ESD)</th>\n",
              "      <th>Width</th>\n",
              "    </tr>\n",
              "  </thead>\n",
              "  <tbody>\n",
              "    <tr>\n",
              "      <th>0</th>\n",
              "      <td>19.7046</td>\n",
              "      <td>19.7046</td>\n",
              "      <td>0.4419</td>\n",
              "      <td>151.9286</td>\n",
              "      <td>149.5476</td>\n",
              "      <td>153.8333</td>\n",
              "      <td>1.3699</td>\n",
              "      <td>1</td>\n",
              "      <td>1</td>\n",
              "      <td>574</td>\n",
              "      <td>900</td>\n",
              "      <td>0.0</td>\n",
              "      <td>0.7488</td>\n",
              "      <td>0.0</td>\n",
              "      <td>0.0</td>\n",
              "      <td>0.7488</td>\n",
              "      <td>0.0</td>\n",
              "      <td>0.0</td>\n",
              "      <td>0.3768</td>\n",
              "      <td>0.1710</td>\n",
              "      <td>0.2031</td>\n",
              "      <td>5.8480</td>\n",
              "      <td>58.7979</td>\n",
              "      <td>0.3500</td>\n",
              "      <td>2016-06-02</td>\n",
              "      <td>5.0089</td>\n",
              "      <td>15.9441</td>\n",
              "      <td>5.0089</td>\n",
              "      <td>36.9216</td>\n",
              "      <td>6.536</td>\n",
              "      <td>16.3107</td>\n",
              "      <td>-15.0</td>\n",
              "      <td>-90.0</td>\n",
              "      <td>0.5863</td>\n",
              "      <td>0.6304</td>\n",
              "      <td>0.0</td>\n",
              "      <td>0.0613</td>\n",
              "      <td>35.8550</td>\n",
              "      <td>2.1982</td>\n",
              "      <td>23</td>\n",
              "      <td>31</td>\n",
              "      <td>0</td>\n",
              "      <td>0</td>\n",
              "      <td>151.0714</td>\n",
              "      <td>22.6033</td>\n",
              "      <td>90B226CE-7F2C-47C1-AEC1-E63A5697AB40</td>\n",
              "      <td>2</td>\n",
              "      <td>76.1066</td>\n",
              "      <td>1.0159</td>\n",
              "      <td>1.0125</td>\n",
              "      <td>1.0287</td>\n",
              "      <td>1.2944</td>\n",
              "      <td>26.0978</td>\n",
              "      <td>76.367</td>\n",
              "      <td>15.0</td>\n",
              "      <td>16.8373</td>\n",
              "      <td>32</td>\n",
              "      <td>0.0</td>\n",
              "      <td>0</td>\n",
              "      <td>0.0</td>\n",
              "      <td>0.0</td>\n",
              "      <td>6345.0</td>\n",
              "      <td>0.3207</td>\n",
              "      <td>13:47:46</td>\n",
              "      <td>2016-06-02T13:47:46.315</td>\n",
              "      <td>0.6858</td>\n",
              "      <td>65.79825</td>\n",
              "      <td>2122.272</td>\n",
              "      <td>10.2742</td>\n",
              "    </tr>\n",
              "    <tr>\n",
              "      <th>1</th>\n",
              "      <td>25.3345</td>\n",
              "      <td>25.3345</td>\n",
              "      <td>0.1565</td>\n",
              "      <td>153.3519</td>\n",
              "      <td>154.1296</td>\n",
              "      <td>151.5370</td>\n",
              "      <td>1.3699</td>\n",
              "      <td>1</td>\n",
              "      <td>1</td>\n",
              "      <td>545</td>\n",
              "      <td>885</td>\n",
              "      <td>0.0</td>\n",
              "      <td>0.7488</td>\n",
              "      <td>0.0</td>\n",
              "      <td>0.0</td>\n",
              "      <td>0.7488</td>\n",
              "      <td>0.0</td>\n",
              "      <td>0.0</td>\n",
              "      <td>0.6098</td>\n",
              "      <td>0.3717</td>\n",
              "      <td>0.0790</td>\n",
              "      <td>2.6904</td>\n",
              "      <td>77.8769</td>\n",
              "      <td>0.3816</td>\n",
              "      <td>2016-06-02</td>\n",
              "      <td>5.6795</td>\n",
              "      <td>21.9565</td>\n",
              "      <td>5.6795</td>\n",
              "      <td>54.5897</td>\n",
              "      <td>6.536</td>\n",
              "      <td>6.2933</td>\n",
              "      <td>35.0</td>\n",
              "      <td>-55.0</td>\n",
              "      <td>0.0000</td>\n",
              "      <td>1.3290</td>\n",
              "      <td>0.0</td>\n",
              "      <td>0.1589</td>\n",
              "      <td>25.2537</td>\n",
              "      <td>4.0128</td>\n",
              "      <td>29</td>\n",
              "      <td>35</td>\n",
              "      <td>33</td>\n",
              "      <td>0</td>\n",
              "      <td>153.2593</td>\n",
              "      <td>33.5625</td>\n",
              "      <td>5F6F4EF4-D40A-4427-AEBC-C669FF8090A3</td>\n",
              "      <td>2</td>\n",
              "      <td>58.5330</td>\n",
              "      <td>0.9950</td>\n",
              "      <td>0.9882</td>\n",
              "      <td>0.9832</td>\n",
              "      <td>0.7516</td>\n",
              "      <td>26.0978</td>\n",
              "      <td>76.367</td>\n",
              "      <td>15.0</td>\n",
              "      <td>22.5702</td>\n",
              "      <td>32</td>\n",
              "      <td>0.0</td>\n",
              "      <td>0</td>\n",
              "      <td>0.0</td>\n",
              "      <td>0.0</td>\n",
              "      <td>8276.0</td>\n",
              "      <td>0.5952</td>\n",
              "      <td>13:47:46</td>\n",
              "      <td>2016-06-02T13:47:46.315</td>\n",
              "      <td>0.7413</td>\n",
              "      <td>95.92483</td>\n",
              "      <td>5542.261</td>\n",
              "      <td>4.7946</td>\n",
              "    </tr>\n",
              "    <tr>\n",
              "      <th>2</th>\n",
              "      <td>584.2990</td>\n",
              "      <td>584.2990</td>\n",
              "      <td>0.5579</td>\n",
              "      <td>162.7137</td>\n",
              "      <td>172.3056</td>\n",
              "      <td>168.8825</td>\n",
              "      <td>1.3699</td>\n",
              "      <td>1</td>\n",
              "      <td>1</td>\n",
              "      <td>439</td>\n",
              "      <td>837</td>\n",
              "      <td>0.0</td>\n",
              "      <td>0.7488</td>\n",
              "      <td>0.0</td>\n",
              "      <td>0.0</td>\n",
              "      <td>0.7488</td>\n",
              "      <td>0.0</td>\n",
              "      <td>0.0</td>\n",
              "      <td>0.0000</td>\n",
              "      <td>0.0414</td>\n",
              "      <td>0.1586</td>\n",
              "      <td>24.1666</td>\n",
              "      <td>267.8660</td>\n",
              "      <td>0.1890</td>\n",
              "      <td>2016-06-02</td>\n",
              "      <td>27.2755</td>\n",
              "      <td>82.3843</td>\n",
              "      <td>27.2755</td>\n",
              "      <td>26.8362</td>\n",
              "      <td>6.536</td>\n",
              "      <td>73.9080</td>\n",
              "      <td>-10.0</td>\n",
              "      <td>-80.0</td>\n",
              "      <td>1.4964</td>\n",
              "      <td>0.4006</td>\n",
              "      <td>0.0</td>\n",
              "      <td>0.0135</td>\n",
              "      <td>254.7755</td>\n",
              "      <td>3.4472</td>\n",
              "      <td>65</td>\n",
              "      <td>93</td>\n",
              "      <td>70</td>\n",
              "      <td>0</td>\n",
              "      <td>170.1902</td>\n",
              "      <td>102.0575</td>\n",
              "      <td>934A5322-E349-401E-A842-E7F082EC9AFA</td>\n",
              "      <td>8</td>\n",
              "      <td>516.4453</td>\n",
              "      <td>0.9443</td>\n",
              "      <td>1.0379</td>\n",
              "      <td>0.9801</td>\n",
              "      <td>1.9280</td>\n",
              "      <td>26.0978</td>\n",
              "      <td>76.367</td>\n",
              "      <td>15.0</td>\n",
              "      <td>8.6058</td>\n",
              "      <td>32</td>\n",
              "      <td>0.0</td>\n",
              "      <td>0</td>\n",
              "      <td>0.0</td>\n",
              "      <td>0.0</td>\n",
              "      <td>79649.0</td>\n",
              "      <td>0.0662</td>\n",
              "      <td>13:47:46</td>\n",
              "      <td>2016-06-02T13:47:46.315</td>\n",
              "      <td>0.6689</td>\n",
              "      <td>10624.70000</td>\n",
              "      <td>292773.400</td>\n",
              "      <td>51.3712</td>\n",
              "    </tr>\n",
              "    <tr>\n",
              "      <th>3</th>\n",
              "      <td>56.7434</td>\n",
              "      <td>56.7434</td>\n",
              "      <td>0.4824</td>\n",
              "      <td>160.3556</td>\n",
              "      <td>167.8444</td>\n",
              "      <td>163.0444</td>\n",
              "      <td>1.3699</td>\n",
              "      <td>1</td>\n",
              "      <td>1</td>\n",
              "      <td>384</td>\n",
              "      <td>825</td>\n",
              "      <td>0.0</td>\n",
              "      <td>0.7488</td>\n",
              "      <td>0.0</td>\n",
              "      <td>0.0</td>\n",
              "      <td>0.7488</td>\n",
              "      <td>0.0</td>\n",
              "      <td>0.0</td>\n",
              "      <td>0.3368</td>\n",
              "      <td>0.1750</td>\n",
              "      <td>0.2395</td>\n",
              "      <td>5.7134</td>\n",
              "      <td>78.3936</td>\n",
              "      <td>0.3782</td>\n",
              "      <td>2016-06-02</td>\n",
              "      <td>8.4999</td>\n",
              "      <td>22.2228</td>\n",
              "      <td>8.4999</td>\n",
              "      <td>16.7467</td>\n",
              "      <td>6.536</td>\n",
              "      <td>15.8863</td>\n",
              "      <td>-25.0</td>\n",
              "      <td>60.0</td>\n",
              "      <td>0.8445</td>\n",
              "      <td>0.5422</td>\n",
              "      <td>0.0</td>\n",
              "      <td>0.0629</td>\n",
              "      <td>51.7990</td>\n",
              "      <td>3.2606</td>\n",
              "      <td>30</td>\n",
              "      <td>34</td>\n",
              "      <td>165</td>\n",
              "      <td>0</td>\n",
              "      <td>165.5778</td>\n",
              "      <td>28.0829</td>\n",
              "      <td>747015E5-B24E-4ABF-B632-EB94E013F2C5</td>\n",
              "      <td>2</td>\n",
              "      <td>110.1191</td>\n",
              "      <td>0.9554</td>\n",
              "      <td>1.0168</td>\n",
              "      <td>0.9714</td>\n",
              "      <td>1.4047</td>\n",
              "      <td>26.0978</td>\n",
              "      <td>76.367</td>\n",
              "      <td>15.0</td>\n",
              "      <td>4.7679</td>\n",
              "      <td>32</td>\n",
              "      <td>0.0</td>\n",
              "      <td>0</td>\n",
              "      <td>0.0</td>\n",
              "      <td>0.0</td>\n",
              "      <td>14902.0</td>\n",
              "      <td>0.0510</td>\n",
              "      <td>13:47:46</td>\n",
              "      <td>2016-06-02T13:47:46.315</td>\n",
              "      <td>0.6175</td>\n",
              "      <td>321.54150</td>\n",
              "      <td>5746.382</td>\n",
              "      <td>14.3839</td>\n",
              "    </tr>\n",
              "    <tr>\n",
              "      <th>4</th>\n",
              "      <td>48.1883</td>\n",
              "      <td>48.1883</td>\n",
              "      <td>0.3312</td>\n",
              "      <td>160.5000</td>\n",
              "      <td>168.9634</td>\n",
              "      <td>165.7927</td>\n",
              "      <td>1.3699</td>\n",
              "      <td>1</td>\n",
              "      <td>1</td>\n",
              "      <td>428</td>\n",
              "      <td>823</td>\n",
              "      <td>0.0</td>\n",
              "      <td>0.7488</td>\n",
              "      <td>0.0</td>\n",
              "      <td>0.0</td>\n",
              "      <td>0.7488</td>\n",
              "      <td>0.0</td>\n",
              "      <td>0.0</td>\n",
              "      <td>0.3563</td>\n",
              "      <td>0.2321</td>\n",
              "      <td>0.3154</td>\n",
              "      <td>4.3081</td>\n",
              "      <td>70.3237</td>\n",
              "      <td>0.5636</td>\n",
              "      <td>2016-06-02</td>\n",
              "      <td>7.8330</td>\n",
              "      <td>19.4070</td>\n",
              "      <td>7.8330</td>\n",
              "      <td>25.3833</td>\n",
              "      <td>6.536</td>\n",
              "      <td>11.4468</td>\n",
              "      <td>-30.0</td>\n",
              "      <td>65.0</td>\n",
              "      <td>0.4250</td>\n",
              "      <td>0.7018</td>\n",
              "      <td>0.0</td>\n",
              "      <td>0.0874</td>\n",
              "      <td>41.9699</td>\n",
              "      <td>3.6665</td>\n",
              "      <td>24</td>\n",
              "      <td>35</td>\n",
              "      <td>201</td>\n",
              "      <td>0</td>\n",
              "      <td>167.1098</td>\n",
              "      <td>29.4528</td>\n",
              "      <td>C13D2F17-0022-4982-9C24-00CD8B439C3E</td>\n",
              "      <td>2</td>\n",
              "      <td>91.2729</td>\n",
              "      <td>0.9499</td>\n",
              "      <td>1.0330</td>\n",
              "      <td>0.9812</td>\n",
              "      <td>1.2979</td>\n",
              "      <td>26.0978</td>\n",
              "      <td>76.367</td>\n",
              "      <td>15.0</td>\n",
              "      <td>6.7607</td>\n",
              "      <td>32</td>\n",
              "      <td>0.0</td>\n",
              "      <td>0</td>\n",
              "      <td>0.0</td>\n",
              "      <td>0.0</td>\n",
              "      <td>13703.0</td>\n",
              "      <td>0.4037</td>\n",
              "      <td>13:47:46</td>\n",
              "      <td>2016-06-02T13:47:46.315</td>\n",
              "      <td>0.5964</td>\n",
              "      <td>251.63830</td>\n",
              "      <td>3827.113</td>\n",
              "      <td>8.9043</td>\n",
              "    </tr>\n",
              "  </tbody>\n",
              "</table>\n",
              "</div>"
            ],
            "text/plain": [
              "   Area (ABD)  Area (Filled)  Aspect Ratio  ...  Volume (ABD)  Volume (ESD)    Width\n",
              "0     19.7046        19.7046        0.4419  ...      65.79825      2122.272  10.2742\n",
              "1     25.3345        25.3345        0.1565  ...      95.92483      5542.261   4.7946\n",
              "2    584.2990       584.2990        0.5579  ...   10624.70000    292773.400  51.3712\n",
              "3     56.7434        56.7434        0.4824  ...     321.54150      5746.382  14.3839\n",
              "4     48.1883        48.1883        0.3312  ...     251.63830      3827.113   8.9043\n",
              "\n",
              "[5 rows x 69 columns]"
            ]
          },
          "metadata": {
            "tags": []
          },
          "execution_count": 6
        }
      ]
    },
    {
      "cell_type": "code",
      "metadata": {
        "colab": {
          "base_uri": "https://localhost:8080/",
          "height": 258
        },
        "id": "BDtTkogFKojd",
        "outputId": "d107cff0-fcc7-401e-f317-1f799d8950c8"
      },
      "source": [
        "df_selected = df[[\"Area (Filled)\", \n",
        "                  \"Aspect Ratio\", \n",
        "                  \"Average Blue\", \"Average Green\", \"Average Red\", \n",
        "                  \"Circularity (Hu)\", \"Circle Fit\", \n",
        "                  \"Convexity\", \n",
        "                  \"Diameter (ESD)\", \"Diameter (FD)\", \n",
        "                  \"Edge Gradient\", \n",
        "                  \"Feret Angle Max\", \"Feret Angle Min\", \n",
        "                  \"Fiber Curl\", \n",
        "                  \"Geodesic Aspect Ratio\", \"Geodesic Length\", \"Geodesic Thickness\", \n",
        "                  \"Intensity\",\n",
        "                  \"Length\", \n",
        "                  \"Width\", \n",
        "                  \"Particles Per Chain\",\n",
        "                  \"Perimeter\",\n",
        "                  \"Symmetry\",\n",
        "                  \"Transparency\",\n",
        "                  \"Calibration Image\",\n",
        "                  \"Image Height\",\n",
        "                  \"Ratio Blue/Green\",\n",
        "                  \"Ratio Red/Blue\",\n",
        "                  \"Ratio Red/Green\",\n",
        "                  \"Roughness\",\n",
        "                  \"Scatter Area\",\n",
        "                  \"Scatter Peak\",\n",
        "                  \"Scatter Width\",\n",
        "                  \"Sigma Intensity\"]]\n",
        "df_selected.head()"
      ],
      "execution_count": null,
      "outputs": [
        {
          "output_type": "execute_result",
          "data": {
            "text/html": [
              "<div>\n",
              "<style scoped>\n",
              "    .dataframe tbody tr th:only-of-type {\n",
              "        vertical-align: middle;\n",
              "    }\n",
              "\n",
              "    .dataframe tbody tr th {\n",
              "        vertical-align: top;\n",
              "    }\n",
              "\n",
              "    .dataframe thead th {\n",
              "        text-align: right;\n",
              "    }\n",
              "</style>\n",
              "<table border=\"1\" class=\"dataframe\">\n",
              "  <thead>\n",
              "    <tr style=\"text-align: right;\">\n",
              "      <th></th>\n",
              "      <th>Area (Filled)</th>\n",
              "      <th>Aspect Ratio</th>\n",
              "      <th>Average Blue</th>\n",
              "      <th>Average Green</th>\n",
              "      <th>Average Red</th>\n",
              "      <th>Circularity (Hu)</th>\n",
              "      <th>Circle Fit</th>\n",
              "      <th>Convexity</th>\n",
              "      <th>Diameter (ESD)</th>\n",
              "      <th>Diameter (FD)</th>\n",
              "      <th>Edge Gradient</th>\n",
              "      <th>Feret Angle Max</th>\n",
              "      <th>Feret Angle Min</th>\n",
              "      <th>Fiber Curl</th>\n",
              "      <th>Geodesic Aspect Ratio</th>\n",
              "      <th>Geodesic Length</th>\n",
              "      <th>Geodesic Thickness</th>\n",
              "      <th>Intensity</th>\n",
              "      <th>Length</th>\n",
              "      <th>Width</th>\n",
              "      <th>Particles Per Chain</th>\n",
              "      <th>Perimeter</th>\n",
              "      <th>Symmetry</th>\n",
              "      <th>Transparency</th>\n",
              "      <th>Calibration Image</th>\n",
              "      <th>Image Height</th>\n",
              "      <th>Ratio Blue/Green</th>\n",
              "      <th>Ratio Red/Blue</th>\n",
              "      <th>Ratio Red/Green</th>\n",
              "      <th>Roughness</th>\n",
              "      <th>Scatter Area</th>\n",
              "      <th>Scatter Peak</th>\n",
              "      <th>Scatter Width</th>\n",
              "      <th>Sigma Intensity</th>\n",
              "    </tr>\n",
              "  </thead>\n",
              "  <tbody>\n",
              "    <tr>\n",
              "      <th>0</th>\n",
              "      <td>19.7046</td>\n",
              "      <td>0.4419</td>\n",
              "      <td>151.9286</td>\n",
              "      <td>149.5476</td>\n",
              "      <td>153.8333</td>\n",
              "      <td>0.2031</td>\n",
              "      <td>0.3768</td>\n",
              "      <td>0.3500</td>\n",
              "      <td>15.9441</td>\n",
              "      <td>5.0089</td>\n",
              "      <td>36.9216</td>\n",
              "      <td>-15.0</td>\n",
              "      <td>-90.0</td>\n",
              "      <td>0.5863</td>\n",
              "      <td>0.0613</td>\n",
              "      <td>35.8550</td>\n",
              "      <td>2.1982</td>\n",
              "      <td>151.0714</td>\n",
              "      <td>22.6033</td>\n",
              "      <td>10.2742</td>\n",
              "      <td>2</td>\n",
              "      <td>76.1066</td>\n",
              "      <td>0.3207</td>\n",
              "      <td>0.6858</td>\n",
              "      <td>1</td>\n",
              "      <td>23</td>\n",
              "      <td>1.0159</td>\n",
              "      <td>1.0125</td>\n",
              "      <td>1.0287</td>\n",
              "      <td>1.2944</td>\n",
              "      <td>26.0978</td>\n",
              "      <td>76.367</td>\n",
              "      <td>15.0</td>\n",
              "      <td>16.8373</td>\n",
              "    </tr>\n",
              "    <tr>\n",
              "      <th>1</th>\n",
              "      <td>25.3345</td>\n",
              "      <td>0.1565</td>\n",
              "      <td>153.3519</td>\n",
              "      <td>154.1296</td>\n",
              "      <td>151.5370</td>\n",
              "      <td>0.0790</td>\n",
              "      <td>0.6098</td>\n",
              "      <td>0.3816</td>\n",
              "      <td>21.9565</td>\n",
              "      <td>5.6795</td>\n",
              "      <td>54.5897</td>\n",
              "      <td>35.0</td>\n",
              "      <td>-55.0</td>\n",
              "      <td>0.0000</td>\n",
              "      <td>0.1589</td>\n",
              "      <td>25.2537</td>\n",
              "      <td>4.0128</td>\n",
              "      <td>153.2593</td>\n",
              "      <td>33.5625</td>\n",
              "      <td>4.7946</td>\n",
              "      <td>2</td>\n",
              "      <td>58.5330</td>\n",
              "      <td>0.5952</td>\n",
              "      <td>0.7413</td>\n",
              "      <td>1</td>\n",
              "      <td>29</td>\n",
              "      <td>0.9950</td>\n",
              "      <td>0.9882</td>\n",
              "      <td>0.9832</td>\n",
              "      <td>0.7516</td>\n",
              "      <td>26.0978</td>\n",
              "      <td>76.367</td>\n",
              "      <td>15.0</td>\n",
              "      <td>22.5702</td>\n",
              "    </tr>\n",
              "    <tr>\n",
              "      <th>2</th>\n",
              "      <td>584.2990</td>\n",
              "      <td>0.5579</td>\n",
              "      <td>162.7137</td>\n",
              "      <td>172.3056</td>\n",
              "      <td>168.8825</td>\n",
              "      <td>0.1586</td>\n",
              "      <td>0.0000</td>\n",
              "      <td>0.1890</td>\n",
              "      <td>82.3843</td>\n",
              "      <td>27.2755</td>\n",
              "      <td>26.8362</td>\n",
              "      <td>-10.0</td>\n",
              "      <td>-80.0</td>\n",
              "      <td>1.4964</td>\n",
              "      <td>0.0135</td>\n",
              "      <td>254.7755</td>\n",
              "      <td>3.4472</td>\n",
              "      <td>170.1902</td>\n",
              "      <td>102.0575</td>\n",
              "      <td>51.3712</td>\n",
              "      <td>8</td>\n",
              "      <td>516.4453</td>\n",
              "      <td>0.0662</td>\n",
              "      <td>0.6689</td>\n",
              "      <td>1</td>\n",
              "      <td>65</td>\n",
              "      <td>0.9443</td>\n",
              "      <td>1.0379</td>\n",
              "      <td>0.9801</td>\n",
              "      <td>1.9280</td>\n",
              "      <td>26.0978</td>\n",
              "      <td>76.367</td>\n",
              "      <td>15.0</td>\n",
              "      <td>8.6058</td>\n",
              "    </tr>\n",
              "    <tr>\n",
              "      <th>3</th>\n",
              "      <td>56.7434</td>\n",
              "      <td>0.4824</td>\n",
              "      <td>160.3556</td>\n",
              "      <td>167.8444</td>\n",
              "      <td>163.0444</td>\n",
              "      <td>0.2395</td>\n",
              "      <td>0.3368</td>\n",
              "      <td>0.3782</td>\n",
              "      <td>22.2228</td>\n",
              "      <td>8.4999</td>\n",
              "      <td>16.7467</td>\n",
              "      <td>-25.0</td>\n",
              "      <td>60.0</td>\n",
              "      <td>0.8445</td>\n",
              "      <td>0.0629</td>\n",
              "      <td>51.7990</td>\n",
              "      <td>3.2606</td>\n",
              "      <td>165.5778</td>\n",
              "      <td>28.0829</td>\n",
              "      <td>14.3839</td>\n",
              "      <td>2</td>\n",
              "      <td>110.1191</td>\n",
              "      <td>0.0510</td>\n",
              "      <td>0.6175</td>\n",
              "      <td>1</td>\n",
              "      <td>30</td>\n",
              "      <td>0.9554</td>\n",
              "      <td>1.0168</td>\n",
              "      <td>0.9714</td>\n",
              "      <td>1.4047</td>\n",
              "      <td>26.0978</td>\n",
              "      <td>76.367</td>\n",
              "      <td>15.0</td>\n",
              "      <td>4.7679</td>\n",
              "    </tr>\n",
              "    <tr>\n",
              "      <th>4</th>\n",
              "      <td>48.1883</td>\n",
              "      <td>0.3312</td>\n",
              "      <td>160.5000</td>\n",
              "      <td>168.9634</td>\n",
              "      <td>165.7927</td>\n",
              "      <td>0.3154</td>\n",
              "      <td>0.3563</td>\n",
              "      <td>0.5636</td>\n",
              "      <td>19.4070</td>\n",
              "      <td>7.8330</td>\n",
              "      <td>25.3833</td>\n",
              "      <td>-30.0</td>\n",
              "      <td>65.0</td>\n",
              "      <td>0.4250</td>\n",
              "      <td>0.0874</td>\n",
              "      <td>41.9699</td>\n",
              "      <td>3.6665</td>\n",
              "      <td>167.1098</td>\n",
              "      <td>29.4528</td>\n",
              "      <td>8.9043</td>\n",
              "      <td>2</td>\n",
              "      <td>91.2729</td>\n",
              "      <td>0.4037</td>\n",
              "      <td>0.5964</td>\n",
              "      <td>1</td>\n",
              "      <td>24</td>\n",
              "      <td>0.9499</td>\n",
              "      <td>1.0330</td>\n",
              "      <td>0.9812</td>\n",
              "      <td>1.2979</td>\n",
              "      <td>26.0978</td>\n",
              "      <td>76.367</td>\n",
              "      <td>15.0</td>\n",
              "      <td>6.7607</td>\n",
              "    </tr>\n",
              "  </tbody>\n",
              "</table>\n",
              "</div>"
            ],
            "text/plain": [
              "   Area (Filled)  Aspect Ratio  ...  Scatter Width  Sigma Intensity\n",
              "0        19.7046        0.4419  ...           15.0          16.8373\n",
              "1        25.3345        0.1565  ...           15.0          22.5702\n",
              "2       584.2990        0.5579  ...           15.0           8.6058\n",
              "3        56.7434        0.4824  ...           15.0           4.7679\n",
              "4        48.1883        0.3312  ...           15.0           6.7607\n",
              "\n",
              "[5 rows x 34 columns]"
            ]
          },
          "metadata": {
            "tags": []
          },
          "execution_count": 7
        }
      ]
    },
    {
      "cell_type": "markdown",
      "metadata": {
        "id": "3_j37rQC_Nfx"
      },
      "source": [
        "among these vlaues, we have several non-continues features, and some features need some processing:\n",
        "1. Feret Angle Max and Feret Angle Min: those angle itself only provide directions, but when combined together by absolute value of difference, it gives some shape info(the angle between longest and shortest axis)\n",
        "2. Particles Per Chain: discrete value\n",
        "3. Calibration Image: discrete value"
      ]
    },
    {
      "cell_type": "code",
      "metadata": {
        "colab": {
          "base_uri": "https://localhost:8080/"
        },
        "id": "I-zdDJZE_K35",
        "outputId": "038eb1f2-479d-42b9-d3bc-1af0d9505332"
      },
      "source": [
        "df_selected[\"Feret_Angle\"] = np.abs(df_selected[\"Feret Angle Max\"] - df_selected[\"Feret Angle Min\"])\n",
        "df_selected.drop([\"Feret Angle Max\",\"Feret Angle Min\"], axis = \"columns\", inplace=True)"
      ],
      "execution_count": null,
      "outputs": [
        {
          "output_type": "stream",
          "text": [
            "/usr/local/lib/python3.6/dist-packages/ipykernel_launcher.py:1: SettingWithCopyWarning: \n",
            "A value is trying to be set on a copy of a slice from a DataFrame.\n",
            "Try using .loc[row_indexer,col_indexer] = value instead\n",
            "\n",
            "See the caveats in the documentation: https://pandas.pydata.org/pandas-docs/stable/user_guide/indexing.html#returning-a-view-versus-a-copy\n",
            "  \"\"\"Entry point for launching an IPython kernel.\n",
            "/usr/local/lib/python3.6/dist-packages/pandas/core/frame.py:4174: SettingWithCopyWarning: \n",
            "A value is trying to be set on a copy of a slice from a DataFrame\n",
            "\n",
            "See the caveats in the documentation: https://pandas.pydata.org/pandas-docs/stable/user_guide/indexing.html#returning-a-view-versus-a-copy\n",
            "  errors=errors,\n"
          ],
          "name": "stderr"
        }
      ]
    },
    {
      "cell_type": "code",
      "metadata": {
        "colab": {
          "base_uri": "https://localhost:8080/"
        },
        "id": "-wNTyu_69CoT",
        "outputId": "5cb3cf53-f781-4b1e-8ee0-1a37d9d6d4f9"
      },
      "source": [
        "np.unique(df_selected[\"Particles Per Chain\"], return_counts=True)"
      ],
      "execution_count": null,
      "outputs": [
        {
          "output_type": "execute_result",
          "data": {
            "text/plain": [
              "(array([ 1,  2,  3,  4,  5,  6,  7,  8,  9, 10, 11, 12, 13, 14, 15, 16, 17,\n",
              "        18, 19, 20, 21, 22, 23, 24, 27]),\n",
              " array([12073,  3028,   650,   145,    51,    25,    13,    13,     5,\n",
              "            4,     2,     3,     1,     3,     2,     1,     3,     5,\n",
              "            5,     2,     4,     1,     1,     5,     1]))"
            ]
          },
          "metadata": {
            "tags": []
          },
          "execution_count": 9
        }
      ]
    },
    {
      "cell_type": "code",
      "metadata": {
        "colab": {
          "base_uri": "https://localhost:8080/"
        },
        "id": "oi74y4IYBL-B",
        "outputId": "98ff7026-66f4-4f2b-e11d-a3d4cd9523c4"
      },
      "source": [
        "np.unique(df_selected[\"Calibration Image\"], return_counts=True)"
      ],
      "execution_count": null,
      "outputs": [
        {
          "output_type": "execute_result",
          "data": {
            "text/plain": [
              "(array([1, 2]), array([8860, 7186]))"
            ]
          },
          "metadata": {
            "tags": []
          },
          "execution_count": 10
        }
      ]
    },
    {
      "cell_type": "markdown",
      "metadata": {
        "id": "vKRZk8Rx9NyV"
      },
      "source": [
        "For we are doing a clustering not a regression, I'd put standard scaler onto all features"
      ]
    },
    {
      "cell_type": "code",
      "metadata": {
        "id": "e1j7vSqRMObx"
      },
      "source": [
        "from sklearn.decomposition import PCA\n",
        "from sklearn.preprocessing import StandardScaler"
      ],
      "execution_count": null,
      "outputs": []
    },
    {
      "cell_type": "code",
      "metadata": {
        "id": "UxGnbVlbOr1V"
      },
      "source": [
        "std = StandardScaler()\n",
        "df_selected_std = std.fit_transform(df_selected)"
      ],
      "execution_count": null,
      "outputs": []
    },
    {
      "cell_type": "code",
      "metadata": {
        "colab": {
          "base_uri": "https://localhost:8080/",
          "height": 383
        },
        "id": "85LShZB5aYvR",
        "outputId": "22ae0dc7-8744-4ea8-90fd-7584b56cbbb5"
      },
      "source": [
        "clustering.utils.PCA_preview(df_selected_std)"
      ],
      "execution_count": null,
      "outputs": [
        {
          "output_type": "display_data",
          "data": {
            "image/png": "[encoded data removed]",
            "text/plain": [
              "<Figure size 432x288 with 1 Axes>"
            ]
          },
          "metadata": {
            "tags": []
          }
        },
        {
          "output_type": "execute_result",
          "data": {
            "text/plain": [
              "{(4, 0.7388988884161115),\n",
              " (9, 0.9066439861958384),\n",
              " (14, 0.9752423593194922),\n",
              " (19, 0.9949623433105046),\n",
              " (24, 0.9991487087020402),\n",
              " (29, 0.9999921143488759)}"
            ]
          },
          "metadata": {
            "tags": []
          },
          "execution_count": 13
        }
      ]
    },
    {
      "cell_type": "markdown",
      "metadata": {
        "id": "7SiCNfCh9-0t"
      },
      "source": [
        "Let's keep the top 15 dimention with only 2.5% loss in the variance"
      ]
    },
    {
      "cell_type": "code",
      "metadata": {
        "id": "N0gDUgz-P8uA"
      },
      "source": [
        "# these two step will create a agglomerative tree, where root is the root node of this tree\n",
        "lkg = clustering.clustering.cluster(df_selected_std)\n",
        "tree = hierarchy.to_tree(lkg)"
      ],
      "execution_count": null,
      "outputs": []
    },
    {
      "cell_type": "code",
      "metadata": {
        "id": "KFEmDr7zRj49"
      },
      "source": [
        "root_path = \"/content/drive/My Drive/Machine Learning/FlowCAM Files/KORUS/Select Files/**/\"\n",
        "for i,j in enumerate(origin[\"Image File\"].drop_duplicates()):\n",
        "    if i == 0:\n",
        "        image_list = extract_from_tif(glob.glob(os.path.join(root_path, j))[0])\n",
        "    else:\n",
        "        image_list +=  extract_from_tif(glob.glob(os.path.join(root_path, j))[0])"
      ],
      "execution_count": null,
      "outputs": []
    },
    {
      "cell_type": "code",
      "metadata": {
        "colab": {
          "base_uri": "https://localhost:8080/"
        },
        "id": "sBC_siqrJhJi",
        "outputId": "7b189022-a0a1-4489-f624-e6442540b754"
      },
      "source": [
        "clustering.utils.traverse_save_from_dataframe(tree = tree, \n",
        "                                              image_list=image_list, \n",
        "                                              path_df = origin,\n",
        "                                              save_path=\"\",\n",
        "                                              name = \"root\",\n",
        "                                              smallest_size = 1000,# 1000 here just for demo\n",
        "                                              print_mode = True)"
      ],
      "execution_count": null,
      "outputs": [
        {
          "output_type": "stream",
          "text": [
            "making root/right for 15905 images\n",
            "making root/right/left for 6274 images\n",
            "making root/right/left/right for 5881 images\n",
            "making root/right/left/right/left for 3209 images\n",
            "making root/right/left/right/left/left for 1363 images\n",
            "making root/right/left/right/left/right for 1846 images\n",
            "making root/right/left/right/left/right/right for 1304 images\n",
            "making root/right/left/right/right for 2672 images\n",
            "making root/right/left/right/right/right for 2632 images\n",
            "making root/right/left/right/right/right/right for 1958 images\n",
            "making root/right/left/right/right/right/right/right for 1400 images\n",
            "making root/right/right for 9631 images\n",
            "making root/right/right/left for 5041 images\n",
            "making root/right/right/left/left for 1268 images\n",
            "making root/right/right/left/right for 3773 images\n",
            "making root/right/right/left/right/right for 2898 images\n",
            "making root/right/right/left/right/right/left for 1456 images\n",
            "making root/right/right/left/right/right/right for 1442 images\n",
            "making root/right/right/right for 4590 images\n",
            "making root/right/right/right/left for 3085 images\n",
            "making root/right/right/right/left/left for 1503 images\n",
            "making root/right/right/right/left/right for 1582 images\n",
            "making root/right/right/right/right for 1505 images\n"
          ],
          "name": "stdout"
        }
      ]
    }
  ]
}