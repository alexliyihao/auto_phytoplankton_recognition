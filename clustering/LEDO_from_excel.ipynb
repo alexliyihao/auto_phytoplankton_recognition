{
  "nbformat": 4,
  "nbformat_minor": 0,
  "metadata": {
    "colab": {
      "name": "LEDO_from_excel.ipynb",
      "provenance": [],
      "collapsed_sections": []
    },
    "kernelspec": {
      "name": "python3",
      "display_name": "Python 3"
    }
  },
  "cells": [
    {
      "cell_type": "markdown",
      "metadata": {
        "id": "JkhPvbE3-Q_H"
      },
      "source": [
        "tl;dr:  \n",
        "These following features will be useful in the training of classifier\n",
        "\n",
        "I. Please have these as necessary: (I didn't have Particle ID but please keep them)  \n",
        "1. Area (Filled) (µm2) \n",
        "2. Aspect Ratio   \n",
        "3. Average Blue\n",
        "4. Average Green\n",
        "5. Average Red  \n",
        "6. Circularity (Hu)  \n",
        "7. Circle Fit\n",
        "8. Convexity\n",
        "9. Diameter (ESD) (µm)\t\n",
        "10. Diameter (FD) (µm)\n",
        "11. Edge Gradient\n",
        "12. Feret Angle Max \n",
        "13. Feret Angle Min\n",
        "14. Fiber Curl\n",
        "15. Geodesic Aspect Ratio\n",
        "16. Geodesic Length (µm)\n",
        "17. Geodesic Thickness (µm)\n",
        "18. Intensity\n",
        "19. Length (µm)\n",
        "20. Width (µm)\n",
        "21. Particles Per Chain\n",
        "22. Perimeter (µm)\n",
        "23. Symmetry  \n",
        "24. Transparency   \n",
        "\n",
        "II. Optional: \n",
        "1.  Calibration Image   \n",
        "2.  Ch1 Area, Ch1 Peak, Ch1 Width, Ch2 Area, Ch2 Peak, Ch2 Width, Ch2/Ch1 Ratio, Ch2/Ch1 Ratio\n",
        "3.  elapsed time(conditional, please see 11)\n",
        "4.  Image Height\n",
        "5.  Ratio Blue/Green \n",
        "6.  Ratio Red/Blue\n",
        "7.  Ratio Red/Green\n",
        "8.  Roughness\n",
        "9.  Scatter Area\n",
        "10. Scatter Peak\n",
        "11. Scatter Width  \n",
        "12. Sigma Intensity  \n",
        "\n",
        "\n",
        "III. Drop:  (I don't think that make much sense or some of hte infomation is provided by other datas)\n",
        "1. \"Area (ABD) (µm2)\"\n",
        "2. Capture X\n",
        "3. Capture Y\n",
        "4. Circularity\n",
        "5. Diameter (ABD) (µm)\t\n",
        "6. Elongation\n",
        "7. Fiber Straightness\n",
        "8. Filter Score\n",
        "9. Image Width\n",
        "10. Image X\n",
        "11. Image Y\n",
        "12. Source Image\n",
        "13. Sum Intensity\n",
        "14. Volume (ABD)\n",
        "15. Volume (ESD)"
      ]
    },
    {
      "cell_type": "code",
      "metadata": {
        "id": "EYj38r6ohKNg",
        "colab": {
          "base_uri": "https://localhost:8080/"
        },
        "outputId": "4bccac7c-6dc5-4479-c28d-b542d040bf90"
      },
      "source": [
        "# some tool box\n",
        "import numpy as np\n",
        "import pandas as pd \n",
        "import glob\n",
        "import gc\n",
        "import os\n",
        "import matplotlib.pyplot as plt\n",
        "import seaborn as sns\n",
        "from google.colab import drive\n",
        "drive.mount(\"/content/drive\")"
      ],
      "execution_count": null,
      "outputs": [
        {
          "output_type": "stream",
          "text": [
            "Drive already mounted at /content/drive; to attempt to forcibly remount, call drive.mount(\"/content/drive\", force_remount=True).\n"
          ],
          "name": "stdout"
        }
      ]
    },
    {
      "cell_type": "code",
      "metadata": {
        "id": "qwANtV3qhPfu",
        "colab": {
          "base_uri": "https://localhost:8080/"
        },
        "outputId": "8fa0dd4a-b44a-45ed-d6ac-dcfbc1911d8f"
      },
      "source": [
        "!ls \"/content/drive/My Drive/Machine Learning/FlowCAM Files/KORUS/Select Files\""
      ],
      "execution_count": null,
      "outputs": [
        {
          "output_type": "stream",
          "text": [
            "KORUS-11-3-2am\t  KORUS-18-2m  KORUS-30-2am\t\tKORUS-51-5-2m\n",
            "KORUS-11-4-2.5am  KORUS-24-2m  KORUS-31-2m\t\tKORUS-54-2am\n",
            "KORUS-13-2m\t  KORUS-27-2m  KORUS-51-3-2bm\n",
            "KORUS-14-2m\t  KORUS-29-2m  KORUS-51-4-2m-NOCTILUCA\n"
          ],
          "name": "stdout"
        }
      ]
    },
    {
      "cell_type": "markdown",
      "metadata": {
        "id": "QTA2Jznnhirh"
      },
      "source": [
        "let's read the file from both side"
      ]
    },
    {
      "cell_type": "code",
      "metadata": {
        "id": "FUKR31zlw1ar"
      },
      "source": [
        "selected_file_path = \"/content/drive/My Drive/Machine Learning/FlowCAM Files/KORUS/Select Files\"\n",
        "excel_path = \"/content/drive/MyDrive/Machine Learning/FlowCAM Files/KORUS/KORUS-OC-2016_FlowCAM_Particle-Properties.xlsx\""
      ],
      "execution_count": null,
      "outputs": []
    },
    {
      "cell_type": "code",
      "metadata": {
        "id": "HKgbnSH_hV47"
      },
      "source": [
        "csv_path = glob.glob(os.path.join(selected_file_path,\"**/data_export.csv\"))"
      ],
      "execution_count": null,
      "outputs": []
    },
    {
      "cell_type": "code",
      "metadata": {
        "id": "scC7ECtWhhTl"
      },
      "source": [
        "df = pd.read_csv(csv_path[0])\n",
        "for file in csv_path[1:]:\n",
        "    df = pd.concat((df,pd.read_csv(file)))"
      ],
      "execution_count": null,
      "outputs": []
    },
    {
      "cell_type": "code",
      "metadata": {
        "id": "VrnKlzlSiAqY"
      },
      "source": [
        "df_new = pd.read_excel(excel_path,sheet_name=0)"
      ],
      "execution_count": null,
      "outputs": []
    },
    {
      "cell_type": "code",
      "metadata": {
        "id": "rcZCVs8FirtE",
        "colab": {
          "base_uri": "https://localhost:8080/"
        },
        "outputId": "7161e284-4251-4c59-d869-d46e9ea4600a"
      },
      "source": [
        "print(\"old data shape:\", df.shape,\"new data shape:\", df_new.shape)"
      ],
      "execution_count": null,
      "outputs": [
        {
          "output_type": "stream",
          "text": [
            "old data shape: (16046, 71) new data shape: (13844, 72)\n"
          ],
          "name": "stdout"
        }
      ]
    },
    {
      "cell_type": "code",
      "metadata": {
        "id": "PX09PuAUiCKS"
      },
      "source": [
        "df_additional_ = [i for i in df.columns if i not in df_new.columns]\n",
        "df_new_additional_ = [i for i in df_new.columns if i not in df.columns]\n",
        "changed_pair = [(i,j) for i in df_additional_ for j in df_new_additional_ if i in j]"
      ],
      "execution_count": null,
      "outputs": []
    },
    {
      "cell_type": "code",
      "metadata": {
        "id": "z4HR76DjrD2Z",
        "colab": {
          "base_uri": "https://localhost:8080/"
        },
        "outputId": "da052dba-b0d9-4c7f-903e-18b39896d894"
      },
      "source": [
        "changed_pair"
      ],
      "execution_count": null,
      "outputs": [
        {
          "output_type": "execute_result",
          "data": {
            "text/plain": [
              "[('Area (ABD)', 'Area (ABD) (µm2)'),\n",
              " ('Area (Filled)', 'Area (Filled) (µm2)'),\n",
              " ('Convex Perimeter', 'Convex Perimeter (µm)'),\n",
              " ('Date', 'Date (From FlowCAM - Not Corrected)'),\n",
              " ('Diameter (ABD)', 'Diameter (ABD) (µm)'),\n",
              " ('Diameter (ESD)', 'Diameter (ESD) (µm)'),\n",
              " ('Diameter (FD)', 'Diameter (FD) (µm)'),\n",
              " ('Geodesic Length', 'Geodesic Length (µm)'),\n",
              " ('Geodesic Thickness', 'Geodesic Thickness (µm)'),\n",
              " ('Length', 'Geodesic Length (µm)'),\n",
              " ('Length', 'Length (µm)'),\n",
              " ('Perimeter', 'Convex Perimeter (µm)'),\n",
              " ('Perimeter', 'Perimeter (µm)'),\n",
              " ('Time', 'Time (From FlowCAM - Not Corrected)'),\n",
              " ('Time', 'Timestamp (From FlowCAM - Not Corrected)'),\n",
              " ('Timestamp', 'Timestamp (From FlowCAM - Not Corrected)'),\n",
              " ('Volume (ABD)', 'Volume (ABD) (µm3)'),\n",
              " ('Volume (ESD)', 'Volume (ESD) (µm3)'),\n",
              " ('Width', 'Width (µm)')]"
            ]
          },
          "metadata": {
            "tags": []
          },
          "execution_count": 49
        }
      ]
    },
    {
      "cell_type": "code",
      "metadata": {
        "id": "lH69slurrFzi"
      },
      "source": [
        "changed_pair.remove(('Length', 'Geodesic Length (µm)'))\n",
        "changed_pair.remove(('Perimeter', 'Convex Perimeter (µm)'))\n",
        "changed_pair.remove(('Time', 'Timestamp (From FlowCAM - Not Corrected)'))\n",
        "changed_dict = {i[0]:i[1] for i in changed_pair}"
      ],
      "execution_count": null,
      "outputs": []
    },
    {
      "cell_type": "code",
      "metadata": {
        "id": "-UAfGjd3s_v7"
      },
      "source": [
        "df.rename(changed_dict, axis='columns', inplace=True)"
      ],
      "execution_count": null,
      "outputs": []
    },
    {
      "cell_type": "code",
      "metadata": {
        "id": "67yIg3OhjIPk"
      },
      "source": [
        "df_additional_ = [i for i in df.columns if i not in df_new.columns]\n",
        "df_new_additional_ = [i for i in df_new.columns if i not in df.columns]"
      ],
      "execution_count": null,
      "outputs": []
    },
    {
      "cell_type": "code",
      "metadata": {
        "id": "D7PlS9oom8nf",
        "colab": {
          "base_uri": "https://localhost:8080/"
        },
        "outputId": "a12875e3-355a-4599-b6b9-e166befc131d"
      },
      "source": [
        "print(df_additional_, df_new_additional_)"
      ],
      "execution_count": null,
      "outputs": [
        {
          "output_type": "stream",
          "text": [
            "[] ['Class']\n"
          ],
          "name": "stdout"
        }
      ]
    },
    {
      "cell_type": "code",
      "metadata": {
        "id": "YrAsagFRnAsC",
        "colab": {
          "base_uri": "https://localhost:8080/",
          "height": 547
        },
        "outputId": "95550a1a-e473-4eb5-e3a6-03a8fabd977b"
      },
      "source": [
        "df_new.drop(df_new_additional_, axis = 'columns', inplace = True)\n",
        "df = pd.concat((df, df_new))\n",
        "\n",
        "del df_new\n",
        "gc.collect()\n",
        "\n",
        "df.head()"
      ],
      "execution_count": null,
      "outputs": [
        {
          "output_type": "execute_result",
          "data": {
            "text/html": [
              "<div>\n",
              "<style scoped>\n",
              "    .dataframe tbody tr th:only-of-type {\n",
              "        vertical-align: middle;\n",
              "    }\n",
              "\n",
              "    .dataframe tbody tr th {\n",
              "        vertical-align: top;\n",
              "    }\n",
              "\n",
              "    .dataframe thead th {\n",
              "        text-align: right;\n",
              "    }\n",
              "</style>\n",
              "<table border=\"1\" class=\"dataframe\">\n",
              "  <thead>\n",
              "    <tr style=\"text-align: right;\">\n",
              "      <th></th>\n",
              "      <th>Particle ID</th>\n",
              "      <th>Area (ABD) (µm2)</th>\n",
              "      <th>Area (Filled) (µm2)</th>\n",
              "      <th>Aspect Ratio</th>\n",
              "      <th>Average Blue</th>\n",
              "      <th>Average Green</th>\n",
              "      <th>Average Red</th>\n",
              "      <th>Calibration Factor</th>\n",
              "      <th>Calibration Image</th>\n",
              "      <th>Camera</th>\n",
              "      <th>Capture X</th>\n",
              "      <th>Capture Y</th>\n",
              "      <th>Ch1 Area</th>\n",
              "      <th>Ch1 Peak</th>\n",
              "      <th>Ch1 Width</th>\n",
              "      <th>Ch2 Area</th>\n",
              "      <th>Ch2 Peak</th>\n",
              "      <th>Ch2 Width</th>\n",
              "      <th>Ch2/Ch1 Ratio</th>\n",
              "      <th>Circle Fit</th>\n",
              "      <th>Circularity</th>\n",
              "      <th>Circularity (Hu)</th>\n",
              "      <th>Compactness</th>\n",
              "      <th>Convex Perimeter (µm)</th>\n",
              "      <th>Convexity</th>\n",
              "      <th>Date (From FlowCAM - Not Corrected)</th>\n",
              "      <th>Diameter (ABD) (µm)</th>\n",
              "      <th>Diameter (ESD) (µm)</th>\n",
              "      <th>Diameter (FD) (µm)</th>\n",
              "      <th>Edge Gradient</th>\n",
              "      <th>Elapsed Time</th>\n",
              "      <th>Elongation</th>\n",
              "      <th>Feret Angle Max</th>\n",
              "      <th>Feret Angle Min</th>\n",
              "      <th>Fiber Curl</th>\n",
              "      <th>Fiber Straightness</th>\n",
              "      <th>Filter Score</th>\n",
              "      <th>Geodesic Aspect Ratio</th>\n",
              "      <th>Geodesic Length (µm)</th>\n",
              "      <th>Geodesic Thickness (µm)</th>\n",
              "      <th>Image File</th>\n",
              "      <th>Image Height</th>\n",
              "      <th>Image Width</th>\n",
              "      <th>Image X</th>\n",
              "      <th>Image Y</th>\n",
              "      <th>Intensity</th>\n",
              "      <th>Length (µm)</th>\n",
              "      <th>Original Reference ID</th>\n",
              "      <th>Particles Per Chain</th>\n",
              "      <th>Perimeter (µm)</th>\n",
              "      <th>Ratio Blue/Green</th>\n",
              "      <th>Ratio Red/Blue</th>\n",
              "      <th>Ratio Red/Green</th>\n",
              "      <th>Roughness</th>\n",
              "      <th>Scatter Area</th>\n",
              "      <th>Scatter Peak</th>\n",
              "      <th>Scatter Width</th>\n",
              "      <th>Sigma Intensity</th>\n",
              "      <th>Source Image</th>\n",
              "      <th>Sphere Complement</th>\n",
              "      <th>Sphere Count</th>\n",
              "      <th>Sphere Unknown</th>\n",
              "      <th>Sphere Volume</th>\n",
              "      <th>Sum Intensity</th>\n",
              "      <th>Symmetry</th>\n",
              "      <th>Time (From FlowCAM - Not Corrected)</th>\n",
              "      <th>Timestamp (From FlowCAM - Not Corrected)</th>\n",
              "      <th>Transparency</th>\n",
              "      <th>Volume (ABD) (µm3)</th>\n",
              "      <th>Volume (ESD) (µm3)</th>\n",
              "      <th>Width (µm)</th>\n",
              "    </tr>\n",
              "  </thead>\n",
              "  <tbody>\n",
              "    <tr>\n",
              "      <th>0</th>\n",
              "      <td>1</td>\n",
              "      <td>19.7046</td>\n",
              "      <td>19.7046</td>\n",
              "      <td>0.4419</td>\n",
              "      <td>151.9286</td>\n",
              "      <td>149.5476</td>\n",
              "      <td>153.8333</td>\n",
              "      <td>1.3699</td>\n",
              "      <td>1</td>\n",
              "      <td>1</td>\n",
              "      <td>574</td>\n",
              "      <td>900</td>\n",
              "      <td>0.0</td>\n",
              "      <td>0.7488</td>\n",
              "      <td>0.0</td>\n",
              "      <td>0.0</td>\n",
              "      <td>0.7488</td>\n",
              "      <td>0.0</td>\n",
              "      <td>0.0</td>\n",
              "      <td>0.3768</td>\n",
              "      <td>0.1710</td>\n",
              "      <td>0.2031</td>\n",
              "      <td>5.8480</td>\n",
              "      <td>58.7979</td>\n",
              "      <td>0.3500</td>\n",
              "      <td>2016-06-02</td>\n",
              "      <td>5.0089</td>\n",
              "      <td>15.9441</td>\n",
              "      <td>5.0089</td>\n",
              "      <td>36.9216</td>\n",
              "      <td>6.536</td>\n",
              "      <td>16.3107</td>\n",
              "      <td>-15.0</td>\n",
              "      <td>-90.0</td>\n",
              "      <td>0.5863</td>\n",
              "      <td>0.6304</td>\n",
              "      <td>0.0</td>\n",
              "      <td>0.0613</td>\n",
              "      <td>35.8550</td>\n",
              "      <td>2.1982</td>\n",
              "      <td>KORUS-51-4-2m-NOCTILUCA_000001.tif</td>\n",
              "      <td>23</td>\n",
              "      <td>31</td>\n",
              "      <td>0</td>\n",
              "      <td>0</td>\n",
              "      <td>151.0714</td>\n",
              "      <td>22.6033</td>\n",
              "      <td>90B226CE-7F2C-47C1-AEC1-E63A5697AB40</td>\n",
              "      <td>2</td>\n",
              "      <td>76.1066</td>\n",
              "      <td>1.0159</td>\n",
              "      <td>1.0125</td>\n",
              "      <td>1.0287</td>\n",
              "      <td>1.2944</td>\n",
              "      <td>26.0978</td>\n",
              "      <td>76.367</td>\n",
              "      <td>15.0</td>\n",
              "      <td>16.8373</td>\n",
              "      <td>32</td>\n",
              "      <td>0.0</td>\n",
              "      <td>0</td>\n",
              "      <td>0.0</td>\n",
              "      <td>0.0</td>\n",
              "      <td>6345.0</td>\n",
              "      <td>0.3207</td>\n",
              "      <td>13:47:46</td>\n",
              "      <td>2016-06-02T13:47:46.315</td>\n",
              "      <td>0.6858</td>\n",
              "      <td>65.79825</td>\n",
              "      <td>2122.272</td>\n",
              "      <td>10.2742</td>\n",
              "    </tr>\n",
              "    <tr>\n",
              "      <th>1</th>\n",
              "      <td>2</td>\n",
              "      <td>25.3345</td>\n",
              "      <td>25.3345</td>\n",
              "      <td>0.1565</td>\n",
              "      <td>153.3519</td>\n",
              "      <td>154.1296</td>\n",
              "      <td>151.5370</td>\n",
              "      <td>1.3699</td>\n",
              "      <td>1</td>\n",
              "      <td>1</td>\n",
              "      <td>545</td>\n",
              "      <td>885</td>\n",
              "      <td>0.0</td>\n",
              "      <td>0.7488</td>\n",
              "      <td>0.0</td>\n",
              "      <td>0.0</td>\n",
              "      <td>0.7488</td>\n",
              "      <td>0.0</td>\n",
              "      <td>0.0</td>\n",
              "      <td>0.6098</td>\n",
              "      <td>0.3717</td>\n",
              "      <td>0.0790</td>\n",
              "      <td>2.6904</td>\n",
              "      <td>77.8769</td>\n",
              "      <td>0.3816</td>\n",
              "      <td>2016-06-02</td>\n",
              "      <td>5.6795</td>\n",
              "      <td>21.9565</td>\n",
              "      <td>5.6795</td>\n",
              "      <td>54.5897</td>\n",
              "      <td>6.536</td>\n",
              "      <td>6.2933</td>\n",
              "      <td>35.0</td>\n",
              "      <td>-55.0</td>\n",
              "      <td>0.0000</td>\n",
              "      <td>1.3290</td>\n",
              "      <td>0.0</td>\n",
              "      <td>0.1589</td>\n",
              "      <td>25.2537</td>\n",
              "      <td>4.0128</td>\n",
              "      <td>KORUS-51-4-2m-NOCTILUCA_000001.tif</td>\n",
              "      <td>29</td>\n",
              "      <td>35</td>\n",
              "      <td>33</td>\n",
              "      <td>0</td>\n",
              "      <td>153.2593</td>\n",
              "      <td>33.5625</td>\n",
              "      <td>5F6F4EF4-D40A-4427-AEBC-C669FF8090A3</td>\n",
              "      <td>2</td>\n",
              "      <td>58.5330</td>\n",
              "      <td>0.9950</td>\n",
              "      <td>0.9882</td>\n",
              "      <td>0.9832</td>\n",
              "      <td>0.7516</td>\n",
              "      <td>26.0978</td>\n",
              "      <td>76.367</td>\n",
              "      <td>15.0</td>\n",
              "      <td>22.5702</td>\n",
              "      <td>32</td>\n",
              "      <td>0.0</td>\n",
              "      <td>0</td>\n",
              "      <td>0.0</td>\n",
              "      <td>0.0</td>\n",
              "      <td>8276.0</td>\n",
              "      <td>0.5952</td>\n",
              "      <td>13:47:46</td>\n",
              "      <td>2016-06-02T13:47:46.315</td>\n",
              "      <td>0.7413</td>\n",
              "      <td>95.92483</td>\n",
              "      <td>5542.261</td>\n",
              "      <td>4.7946</td>\n",
              "    </tr>\n",
              "    <tr>\n",
              "      <th>2</th>\n",
              "      <td>3</td>\n",
              "      <td>584.2990</td>\n",
              "      <td>584.2990</td>\n",
              "      <td>0.5579</td>\n",
              "      <td>162.7137</td>\n",
              "      <td>172.3056</td>\n",
              "      <td>168.8825</td>\n",
              "      <td>1.3699</td>\n",
              "      <td>1</td>\n",
              "      <td>1</td>\n",
              "      <td>439</td>\n",
              "      <td>837</td>\n",
              "      <td>0.0</td>\n",
              "      <td>0.7488</td>\n",
              "      <td>0.0</td>\n",
              "      <td>0.0</td>\n",
              "      <td>0.7488</td>\n",
              "      <td>0.0</td>\n",
              "      <td>0.0</td>\n",
              "      <td>0.0000</td>\n",
              "      <td>0.0414</td>\n",
              "      <td>0.1586</td>\n",
              "      <td>24.1666</td>\n",
              "      <td>267.8660</td>\n",
              "      <td>0.1890</td>\n",
              "      <td>2016-06-02</td>\n",
              "      <td>27.2755</td>\n",
              "      <td>82.3843</td>\n",
              "      <td>27.2755</td>\n",
              "      <td>26.8362</td>\n",
              "      <td>6.536</td>\n",
              "      <td>73.9080</td>\n",
              "      <td>-10.0</td>\n",
              "      <td>-80.0</td>\n",
              "      <td>1.4964</td>\n",
              "      <td>0.4006</td>\n",
              "      <td>0.0</td>\n",
              "      <td>0.0135</td>\n",
              "      <td>254.7755</td>\n",
              "      <td>3.4472</td>\n",
              "      <td>KORUS-51-4-2m-NOCTILUCA_000001.tif</td>\n",
              "      <td>65</td>\n",
              "      <td>93</td>\n",
              "      <td>70</td>\n",
              "      <td>0</td>\n",
              "      <td>170.1902</td>\n",
              "      <td>102.0575</td>\n",
              "      <td>934A5322-E349-401E-A842-E7F082EC9AFA</td>\n",
              "      <td>8</td>\n",
              "      <td>516.4453</td>\n",
              "      <td>0.9443</td>\n",
              "      <td>1.0379</td>\n",
              "      <td>0.9801</td>\n",
              "      <td>1.9280</td>\n",
              "      <td>26.0978</td>\n",
              "      <td>76.367</td>\n",
              "      <td>15.0</td>\n",
              "      <td>8.6058</td>\n",
              "      <td>32</td>\n",
              "      <td>0.0</td>\n",
              "      <td>0</td>\n",
              "      <td>0.0</td>\n",
              "      <td>0.0</td>\n",
              "      <td>79649.0</td>\n",
              "      <td>0.0662</td>\n",
              "      <td>13:47:46</td>\n",
              "      <td>2016-06-02T13:47:46.315</td>\n",
              "      <td>0.6689</td>\n",
              "      <td>10624.70000</td>\n",
              "      <td>292773.400</td>\n",
              "      <td>51.3712</td>\n",
              "    </tr>\n",
              "    <tr>\n",
              "      <th>3</th>\n",
              "      <td>4</td>\n",
              "      <td>56.7434</td>\n",
              "      <td>56.7434</td>\n",
              "      <td>0.4824</td>\n",
              "      <td>160.3556</td>\n",
              "      <td>167.8444</td>\n",
              "      <td>163.0444</td>\n",
              "      <td>1.3699</td>\n",
              "      <td>1</td>\n",
              "      <td>1</td>\n",
              "      <td>384</td>\n",
              "      <td>825</td>\n",
              "      <td>0.0</td>\n",
              "      <td>0.7488</td>\n",
              "      <td>0.0</td>\n",
              "      <td>0.0</td>\n",
              "      <td>0.7488</td>\n",
              "      <td>0.0</td>\n",
              "      <td>0.0</td>\n",
              "      <td>0.3368</td>\n",
              "      <td>0.1750</td>\n",
              "      <td>0.2395</td>\n",
              "      <td>5.7134</td>\n",
              "      <td>78.3936</td>\n",
              "      <td>0.3782</td>\n",
              "      <td>2016-06-02</td>\n",
              "      <td>8.4999</td>\n",
              "      <td>22.2228</td>\n",
              "      <td>8.4999</td>\n",
              "      <td>16.7467</td>\n",
              "      <td>6.536</td>\n",
              "      <td>15.8863</td>\n",
              "      <td>-25.0</td>\n",
              "      <td>60.0</td>\n",
              "      <td>0.8445</td>\n",
              "      <td>0.5422</td>\n",
              "      <td>0.0</td>\n",
              "      <td>0.0629</td>\n",
              "      <td>51.7990</td>\n",
              "      <td>3.2606</td>\n",
              "      <td>KORUS-51-4-2m-NOCTILUCA_000001.tif</td>\n",
              "      <td>30</td>\n",
              "      <td>34</td>\n",
              "      <td>165</td>\n",
              "      <td>0</td>\n",
              "      <td>165.5778</td>\n",
              "      <td>28.0829</td>\n",
              "      <td>747015E5-B24E-4ABF-B632-EB94E013F2C5</td>\n",
              "      <td>2</td>\n",
              "      <td>110.1191</td>\n",
              "      <td>0.9554</td>\n",
              "      <td>1.0168</td>\n",
              "      <td>0.9714</td>\n",
              "      <td>1.4047</td>\n",
              "      <td>26.0978</td>\n",
              "      <td>76.367</td>\n",
              "      <td>15.0</td>\n",
              "      <td>4.7679</td>\n",
              "      <td>32</td>\n",
              "      <td>0.0</td>\n",
              "      <td>0</td>\n",
              "      <td>0.0</td>\n",
              "      <td>0.0</td>\n",
              "      <td>14902.0</td>\n",
              "      <td>0.0510</td>\n",
              "      <td>13:47:46</td>\n",
              "      <td>2016-06-02T13:47:46.315</td>\n",
              "      <td>0.6175</td>\n",
              "      <td>321.54150</td>\n",
              "      <td>5746.382</td>\n",
              "      <td>14.3839</td>\n",
              "    </tr>\n",
              "    <tr>\n",
              "      <th>4</th>\n",
              "      <td>5</td>\n",
              "      <td>48.1883</td>\n",
              "      <td>48.1883</td>\n",
              "      <td>0.3312</td>\n",
              "      <td>160.5000</td>\n",
              "      <td>168.9634</td>\n",
              "      <td>165.7927</td>\n",
              "      <td>1.3699</td>\n",
              "      <td>1</td>\n",
              "      <td>1</td>\n",
              "      <td>428</td>\n",
              "      <td>823</td>\n",
              "      <td>0.0</td>\n",
              "      <td>0.7488</td>\n",
              "      <td>0.0</td>\n",
              "      <td>0.0</td>\n",
              "      <td>0.7488</td>\n",
              "      <td>0.0</td>\n",
              "      <td>0.0</td>\n",
              "      <td>0.3563</td>\n",
              "      <td>0.2321</td>\n",
              "      <td>0.3154</td>\n",
              "      <td>4.3081</td>\n",
              "      <td>70.3237</td>\n",
              "      <td>0.5636</td>\n",
              "      <td>2016-06-02</td>\n",
              "      <td>7.8330</td>\n",
              "      <td>19.4070</td>\n",
              "      <td>7.8330</td>\n",
              "      <td>25.3833</td>\n",
              "      <td>6.536</td>\n",
              "      <td>11.4468</td>\n",
              "      <td>-30.0</td>\n",
              "      <td>65.0</td>\n",
              "      <td>0.4250</td>\n",
              "      <td>0.7018</td>\n",
              "      <td>0.0</td>\n",
              "      <td>0.0874</td>\n",
              "      <td>41.9699</td>\n",
              "      <td>3.6665</td>\n",
              "      <td>KORUS-51-4-2m-NOCTILUCA_000001.tif</td>\n",
              "      <td>24</td>\n",
              "      <td>35</td>\n",
              "      <td>201</td>\n",
              "      <td>0</td>\n",
              "      <td>167.1098</td>\n",
              "      <td>29.4528</td>\n",
              "      <td>C13D2F17-0022-4982-9C24-00CD8B439C3E</td>\n",
              "      <td>2</td>\n",
              "      <td>91.2729</td>\n",
              "      <td>0.9499</td>\n",
              "      <td>1.0330</td>\n",
              "      <td>0.9812</td>\n",
              "      <td>1.2979</td>\n",
              "      <td>26.0978</td>\n",
              "      <td>76.367</td>\n",
              "      <td>15.0</td>\n",
              "      <td>6.7607</td>\n",
              "      <td>32</td>\n",
              "      <td>0.0</td>\n",
              "      <td>0</td>\n",
              "      <td>0.0</td>\n",
              "      <td>0.0</td>\n",
              "      <td>13703.0</td>\n",
              "      <td>0.4037</td>\n",
              "      <td>13:47:46</td>\n",
              "      <td>2016-06-02T13:47:46.315</td>\n",
              "      <td>0.5964</td>\n",
              "      <td>251.63830</td>\n",
              "      <td>3827.113</td>\n",
              "      <td>8.9043</td>\n",
              "    </tr>\n",
              "  </tbody>\n",
              "</table>\n",
              "</div>"
            ],
            "text/plain": [
              "   Particle ID  Area (ABD) (µm2)  ...  Volume (ESD) (µm3)  Width (µm)\n",
              "0            1           19.7046  ...            2122.272     10.2742\n",
              "1            2           25.3345  ...            5542.261      4.7946\n",
              "2            3          584.2990  ...          292773.400     51.3712\n",
              "3            4           56.7434  ...            5746.382     14.3839\n",
              "4            5           48.1883  ...            3827.113      8.9043\n",
              "\n",
              "[5 rows x 71 columns]"
            ]
          },
          "metadata": {
            "tags": []
          },
          "execution_count": 54
        }
      ]
    },
    {
      "cell_type": "code",
      "metadata": {
        "id": "6L8Lx0C3pqST"
      },
      "source": [
        "non_numerical = [\"Particle ID\",\n",
        "                 \"Image File\",\n",
        "                 \"Original Reference ID\", \n",
        "                 \"Timestamp (From FlowCAM - Not Corrected)\", \n",
        "                 \"Time (From FlowCAM - Not Corrected)\", \n",
        "                 \"Date (From FlowCAM - Not Corrected)\"]\n",
        "\n",
        "df = df.drop(non_numerical, axis = 1)"
      ],
      "execution_count": null,
      "outputs": []
    },
    {
      "cell_type": "code",
      "metadata": {
        "id": "ik9IPShOp_gn",
        "colab": {
          "base_uri": "https://localhost:8080/",
          "height": 258
        },
        "outputId": "3ecc2684-cac8-40d4-f8b3-8e75ddcf8bde"
      },
      "source": [
        "df.head()"
      ],
      "execution_count": null,
      "outputs": [
        {
          "output_type": "execute_result",
          "data": {
            "text/html": [
              "<div>\n",
              "<style scoped>\n",
              "    .dataframe tbody tr th:only-of-type {\n",
              "        vertical-align: middle;\n",
              "    }\n",
              "\n",
              "    .dataframe tbody tr th {\n",
              "        vertical-align: top;\n",
              "    }\n",
              "\n",
              "    .dataframe thead th {\n",
              "        text-align: right;\n",
              "    }\n",
              "</style>\n",
              "<table border=\"1\" class=\"dataframe\">\n",
              "  <thead>\n",
              "    <tr style=\"text-align: right;\">\n",
              "      <th></th>\n",
              "      <th>Area (ABD) (µm2)</th>\n",
              "      <th>Area (Filled) (µm2)</th>\n",
              "      <th>Aspect Ratio</th>\n",
              "      <th>Average Blue</th>\n",
              "      <th>Average Green</th>\n",
              "      <th>Average Red</th>\n",
              "      <th>Calibration Factor</th>\n",
              "      <th>Calibration Image</th>\n",
              "      <th>Camera</th>\n",
              "      <th>Capture X</th>\n",
              "      <th>Capture Y</th>\n",
              "      <th>Ch1 Area</th>\n",
              "      <th>Ch1 Peak</th>\n",
              "      <th>Ch1 Width</th>\n",
              "      <th>Ch2 Area</th>\n",
              "      <th>Ch2 Peak</th>\n",
              "      <th>Ch2 Width</th>\n",
              "      <th>Ch2/Ch1 Ratio</th>\n",
              "      <th>Circle Fit</th>\n",
              "      <th>Circularity</th>\n",
              "      <th>Circularity (Hu)</th>\n",
              "      <th>Compactness</th>\n",
              "      <th>Convex Perimeter (µm)</th>\n",
              "      <th>Convexity</th>\n",
              "      <th>Diameter (ABD) (µm)</th>\n",
              "      <th>Diameter (ESD) (µm)</th>\n",
              "      <th>Diameter (FD) (µm)</th>\n",
              "      <th>Edge Gradient</th>\n",
              "      <th>Elapsed Time</th>\n",
              "      <th>Elongation</th>\n",
              "      <th>Feret Angle Max</th>\n",
              "      <th>Feret Angle Min</th>\n",
              "      <th>Fiber Curl</th>\n",
              "      <th>Fiber Straightness</th>\n",
              "      <th>Filter Score</th>\n",
              "      <th>Geodesic Aspect Ratio</th>\n",
              "      <th>Geodesic Length (µm)</th>\n",
              "      <th>Geodesic Thickness (µm)</th>\n",
              "      <th>Image Height</th>\n",
              "      <th>Image Width</th>\n",
              "      <th>Image X</th>\n",
              "      <th>Image Y</th>\n",
              "      <th>Intensity</th>\n",
              "      <th>Length (µm)</th>\n",
              "      <th>Particles Per Chain</th>\n",
              "      <th>Perimeter (µm)</th>\n",
              "      <th>Ratio Blue/Green</th>\n",
              "      <th>Ratio Red/Blue</th>\n",
              "      <th>Ratio Red/Green</th>\n",
              "      <th>Roughness</th>\n",
              "      <th>Scatter Area</th>\n",
              "      <th>Scatter Peak</th>\n",
              "      <th>Scatter Width</th>\n",
              "      <th>Sigma Intensity</th>\n",
              "      <th>Source Image</th>\n",
              "      <th>Sphere Complement</th>\n",
              "      <th>Sphere Count</th>\n",
              "      <th>Sphere Unknown</th>\n",
              "      <th>Sphere Volume</th>\n",
              "      <th>Sum Intensity</th>\n",
              "      <th>Symmetry</th>\n",
              "      <th>Transparency</th>\n",
              "      <th>Volume (ABD) (µm3)</th>\n",
              "      <th>Volume (ESD) (µm3)</th>\n",
              "      <th>Width (µm)</th>\n",
              "    </tr>\n",
              "  </thead>\n",
              "  <tbody>\n",
              "    <tr>\n",
              "      <th>0</th>\n",
              "      <td>19.7046</td>\n",
              "      <td>19.7046</td>\n",
              "      <td>0.4419</td>\n",
              "      <td>151.9286</td>\n",
              "      <td>149.5476</td>\n",
              "      <td>153.8333</td>\n",
              "      <td>1.3699</td>\n",
              "      <td>1</td>\n",
              "      <td>1</td>\n",
              "      <td>574</td>\n",
              "      <td>900</td>\n",
              "      <td>0.0</td>\n",
              "      <td>0.7488</td>\n",
              "      <td>0.0</td>\n",
              "      <td>0.0</td>\n",
              "      <td>0.7488</td>\n",
              "      <td>0.0</td>\n",
              "      <td>0.0</td>\n",
              "      <td>0.3768</td>\n",
              "      <td>0.1710</td>\n",
              "      <td>0.2031</td>\n",
              "      <td>5.8480</td>\n",
              "      <td>58.7979</td>\n",
              "      <td>0.3500</td>\n",
              "      <td>5.0089</td>\n",
              "      <td>15.9441</td>\n",
              "      <td>5.0089</td>\n",
              "      <td>36.9216</td>\n",
              "      <td>6.536</td>\n",
              "      <td>16.3107</td>\n",
              "      <td>-15.0</td>\n",
              "      <td>-90.0</td>\n",
              "      <td>0.5863</td>\n",
              "      <td>0.6304</td>\n",
              "      <td>0.0</td>\n",
              "      <td>0.0613</td>\n",
              "      <td>35.8550</td>\n",
              "      <td>2.1982</td>\n",
              "      <td>23</td>\n",
              "      <td>31</td>\n",
              "      <td>0</td>\n",
              "      <td>0</td>\n",
              "      <td>151.0714</td>\n",
              "      <td>22.6033</td>\n",
              "      <td>2</td>\n",
              "      <td>76.1066</td>\n",
              "      <td>1.0159</td>\n",
              "      <td>1.0125</td>\n",
              "      <td>1.0287</td>\n",
              "      <td>1.2944</td>\n",
              "      <td>26.0978</td>\n",
              "      <td>76.367</td>\n",
              "      <td>15.0</td>\n",
              "      <td>16.8373</td>\n",
              "      <td>32</td>\n",
              "      <td>0.0</td>\n",
              "      <td>0</td>\n",
              "      <td>0.0</td>\n",
              "      <td>0.0</td>\n",
              "      <td>6345.0</td>\n",
              "      <td>0.3207</td>\n",
              "      <td>0.6858</td>\n",
              "      <td>65.79825</td>\n",
              "      <td>2122.272</td>\n",
              "      <td>10.2742</td>\n",
              "    </tr>\n",
              "    <tr>\n",
              "      <th>1</th>\n",
              "      <td>25.3345</td>\n",
              "      <td>25.3345</td>\n",
              "      <td>0.1565</td>\n",
              "      <td>153.3519</td>\n",
              "      <td>154.1296</td>\n",
              "      <td>151.5370</td>\n",
              "      <td>1.3699</td>\n",
              "      <td>1</td>\n",
              "      <td>1</td>\n",
              "      <td>545</td>\n",
              "      <td>885</td>\n",
              "      <td>0.0</td>\n",
              "      <td>0.7488</td>\n",
              "      <td>0.0</td>\n",
              "      <td>0.0</td>\n",
              "      <td>0.7488</td>\n",
              "      <td>0.0</td>\n",
              "      <td>0.0</td>\n",
              "      <td>0.6098</td>\n",
              "      <td>0.3717</td>\n",
              "      <td>0.0790</td>\n",
              "      <td>2.6904</td>\n",
              "      <td>77.8769</td>\n",
              "      <td>0.3816</td>\n",
              "      <td>5.6795</td>\n",
              "      <td>21.9565</td>\n",
              "      <td>5.6795</td>\n",
              "      <td>54.5897</td>\n",
              "      <td>6.536</td>\n",
              "      <td>6.2933</td>\n",
              "      <td>35.0</td>\n",
              "      <td>-55.0</td>\n",
              "      <td>0.0000</td>\n",
              "      <td>1.3290</td>\n",
              "      <td>0.0</td>\n",
              "      <td>0.1589</td>\n",
              "      <td>25.2537</td>\n",
              "      <td>4.0128</td>\n",
              "      <td>29</td>\n",
              "      <td>35</td>\n",
              "      <td>33</td>\n",
              "      <td>0</td>\n",
              "      <td>153.2593</td>\n",
              "      <td>33.5625</td>\n",
              "      <td>2</td>\n",
              "      <td>58.5330</td>\n",
              "      <td>0.9950</td>\n",
              "      <td>0.9882</td>\n",
              "      <td>0.9832</td>\n",
              "      <td>0.7516</td>\n",
              "      <td>26.0978</td>\n",
              "      <td>76.367</td>\n",
              "      <td>15.0</td>\n",
              "      <td>22.5702</td>\n",
              "      <td>32</td>\n",
              "      <td>0.0</td>\n",
              "      <td>0</td>\n",
              "      <td>0.0</td>\n",
              "      <td>0.0</td>\n",
              "      <td>8276.0</td>\n",
              "      <td>0.5952</td>\n",
              "      <td>0.7413</td>\n",
              "      <td>95.92483</td>\n",
              "      <td>5542.261</td>\n",
              "      <td>4.7946</td>\n",
              "    </tr>\n",
              "    <tr>\n",
              "      <th>2</th>\n",
              "      <td>584.2990</td>\n",
              "      <td>584.2990</td>\n",
              "      <td>0.5579</td>\n",
              "      <td>162.7137</td>\n",
              "      <td>172.3056</td>\n",
              "      <td>168.8825</td>\n",
              "      <td>1.3699</td>\n",
              "      <td>1</td>\n",
              "      <td>1</td>\n",
              "      <td>439</td>\n",
              "      <td>837</td>\n",
              "      <td>0.0</td>\n",
              "      <td>0.7488</td>\n",
              "      <td>0.0</td>\n",
              "      <td>0.0</td>\n",
              "      <td>0.7488</td>\n",
              "      <td>0.0</td>\n",
              "      <td>0.0</td>\n",
              "      <td>0.0000</td>\n",
              "      <td>0.0414</td>\n",
              "      <td>0.1586</td>\n",
              "      <td>24.1666</td>\n",
              "      <td>267.8660</td>\n",
              "      <td>0.1890</td>\n",
              "      <td>27.2755</td>\n",
              "      <td>82.3843</td>\n",
              "      <td>27.2755</td>\n",
              "      <td>26.8362</td>\n",
              "      <td>6.536</td>\n",
              "      <td>73.9080</td>\n",
              "      <td>-10.0</td>\n",
              "      <td>-80.0</td>\n",
              "      <td>1.4964</td>\n",
              "      <td>0.4006</td>\n",
              "      <td>0.0</td>\n",
              "      <td>0.0135</td>\n",
              "      <td>254.7755</td>\n",
              "      <td>3.4472</td>\n",
              "      <td>65</td>\n",
              "      <td>93</td>\n",
              "      <td>70</td>\n",
              "      <td>0</td>\n",
              "      <td>170.1902</td>\n",
              "      <td>102.0575</td>\n",
              "      <td>8</td>\n",
              "      <td>516.4453</td>\n",
              "      <td>0.9443</td>\n",
              "      <td>1.0379</td>\n",
              "      <td>0.9801</td>\n",
              "      <td>1.9280</td>\n",
              "      <td>26.0978</td>\n",
              "      <td>76.367</td>\n",
              "      <td>15.0</td>\n",
              "      <td>8.6058</td>\n",
              "      <td>32</td>\n",
              "      <td>0.0</td>\n",
              "      <td>0</td>\n",
              "      <td>0.0</td>\n",
              "      <td>0.0</td>\n",
              "      <td>79649.0</td>\n",
              "      <td>0.0662</td>\n",
              "      <td>0.6689</td>\n",
              "      <td>10624.70000</td>\n",
              "      <td>292773.400</td>\n",
              "      <td>51.3712</td>\n",
              "    </tr>\n",
              "    <tr>\n",
              "      <th>3</th>\n",
              "      <td>56.7434</td>\n",
              "      <td>56.7434</td>\n",
              "      <td>0.4824</td>\n",
              "      <td>160.3556</td>\n",
              "      <td>167.8444</td>\n",
              "      <td>163.0444</td>\n",
              "      <td>1.3699</td>\n",
              "      <td>1</td>\n",
              "      <td>1</td>\n",
              "      <td>384</td>\n",
              "      <td>825</td>\n",
              "      <td>0.0</td>\n",
              "      <td>0.7488</td>\n",
              "      <td>0.0</td>\n",
              "      <td>0.0</td>\n",
              "      <td>0.7488</td>\n",
              "      <td>0.0</td>\n",
              "      <td>0.0</td>\n",
              "      <td>0.3368</td>\n",
              "      <td>0.1750</td>\n",
              "      <td>0.2395</td>\n",
              "      <td>5.7134</td>\n",
              "      <td>78.3936</td>\n",
              "      <td>0.3782</td>\n",
              "      <td>8.4999</td>\n",
              "      <td>22.2228</td>\n",
              "      <td>8.4999</td>\n",
              "      <td>16.7467</td>\n",
              "      <td>6.536</td>\n",
              "      <td>15.8863</td>\n",
              "      <td>-25.0</td>\n",
              "      <td>60.0</td>\n",
              "      <td>0.8445</td>\n",
              "      <td>0.5422</td>\n",
              "      <td>0.0</td>\n",
              "      <td>0.0629</td>\n",
              "      <td>51.7990</td>\n",
              "      <td>3.2606</td>\n",
              "      <td>30</td>\n",
              "      <td>34</td>\n",
              "      <td>165</td>\n",
              "      <td>0</td>\n",
              "      <td>165.5778</td>\n",
              "      <td>28.0829</td>\n",
              "      <td>2</td>\n",
              "      <td>110.1191</td>\n",
              "      <td>0.9554</td>\n",
              "      <td>1.0168</td>\n",
              "      <td>0.9714</td>\n",
              "      <td>1.4047</td>\n",
              "      <td>26.0978</td>\n",
              "      <td>76.367</td>\n",
              "      <td>15.0</td>\n",
              "      <td>4.7679</td>\n",
              "      <td>32</td>\n",
              "      <td>0.0</td>\n",
              "      <td>0</td>\n",
              "      <td>0.0</td>\n",
              "      <td>0.0</td>\n",
              "      <td>14902.0</td>\n",
              "      <td>0.0510</td>\n",
              "      <td>0.6175</td>\n",
              "      <td>321.54150</td>\n",
              "      <td>5746.382</td>\n",
              "      <td>14.3839</td>\n",
              "    </tr>\n",
              "    <tr>\n",
              "      <th>4</th>\n",
              "      <td>48.1883</td>\n",
              "      <td>48.1883</td>\n",
              "      <td>0.3312</td>\n",
              "      <td>160.5000</td>\n",
              "      <td>168.9634</td>\n",
              "      <td>165.7927</td>\n",
              "      <td>1.3699</td>\n",
              "      <td>1</td>\n",
              "      <td>1</td>\n",
              "      <td>428</td>\n",
              "      <td>823</td>\n",
              "      <td>0.0</td>\n",
              "      <td>0.7488</td>\n",
              "      <td>0.0</td>\n",
              "      <td>0.0</td>\n",
              "      <td>0.7488</td>\n",
              "      <td>0.0</td>\n",
              "      <td>0.0</td>\n",
              "      <td>0.3563</td>\n",
              "      <td>0.2321</td>\n",
              "      <td>0.3154</td>\n",
              "      <td>4.3081</td>\n",
              "      <td>70.3237</td>\n",
              "      <td>0.5636</td>\n",
              "      <td>7.8330</td>\n",
              "      <td>19.4070</td>\n",
              "      <td>7.8330</td>\n",
              "      <td>25.3833</td>\n",
              "      <td>6.536</td>\n",
              "      <td>11.4468</td>\n",
              "      <td>-30.0</td>\n",
              "      <td>65.0</td>\n",
              "      <td>0.4250</td>\n",
              "      <td>0.7018</td>\n",
              "      <td>0.0</td>\n",
              "      <td>0.0874</td>\n",
              "      <td>41.9699</td>\n",
              "      <td>3.6665</td>\n",
              "      <td>24</td>\n",
              "      <td>35</td>\n",
              "      <td>201</td>\n",
              "      <td>0</td>\n",
              "      <td>167.1098</td>\n",
              "      <td>29.4528</td>\n",
              "      <td>2</td>\n",
              "      <td>91.2729</td>\n",
              "      <td>0.9499</td>\n",
              "      <td>1.0330</td>\n",
              "      <td>0.9812</td>\n",
              "      <td>1.2979</td>\n",
              "      <td>26.0978</td>\n",
              "      <td>76.367</td>\n",
              "      <td>15.0</td>\n",
              "      <td>6.7607</td>\n",
              "      <td>32</td>\n",
              "      <td>0.0</td>\n",
              "      <td>0</td>\n",
              "      <td>0.0</td>\n",
              "      <td>0.0</td>\n",
              "      <td>13703.0</td>\n",
              "      <td>0.4037</td>\n",
              "      <td>0.5964</td>\n",
              "      <td>251.63830</td>\n",
              "      <td>3827.113</td>\n",
              "      <td>8.9043</td>\n",
              "    </tr>\n",
              "  </tbody>\n",
              "</table>\n",
              "</div>"
            ],
            "text/plain": [
              "   Area (ABD) (µm2)  Area (Filled) (µm2)  ...  Volume (ESD) (µm3)  Width (µm)\n",
              "0           19.7046              19.7046  ...            2122.272     10.2742\n",
              "1           25.3345              25.3345  ...            5542.261      4.7946\n",
              "2          584.2990             584.2990  ...          292773.400     51.3712\n",
              "3           56.7434              56.7434  ...            5746.382     14.3839\n",
              "4           48.1883              48.1883  ...            3827.113      8.9043\n",
              "\n",
              "[5 rows x 65 columns]"
            ]
          },
          "metadata": {
            "tags": []
          },
          "execution_count": 56
        }
      ]
    },
    {
      "cell_type": "code",
      "metadata": {
        "id": "H6Gm5pNPotpD"
      },
      "source": [
        "# drop the columns which are always the same value\n",
        "same_col = [i for i in df.columns if df[i].unique().shape[0] == 1]\n",
        "df.drop(same_col, axis = \"columns\", inplace=True)"
      ],
      "execution_count": null,
      "outputs": []
    },
    {
      "cell_type": "code",
      "metadata": {
        "id": "plquUF5dxc7X",
        "colab": {
          "base_uri": "https://localhost:8080/",
          "height": 258
        },
        "outputId": "4715e0fa-7917-4d1e-82f5-caafdb0aaffe"
      },
      "source": [
        "df.head()"
      ],
      "execution_count": null,
      "outputs": [
        {
          "output_type": "execute_result",
          "data": {
            "text/html": [
              "<div>\n",
              "<style scoped>\n",
              "    .dataframe tbody tr th:only-of-type {\n",
              "        vertical-align: middle;\n",
              "    }\n",
              "\n",
              "    .dataframe tbody tr th {\n",
              "        vertical-align: top;\n",
              "    }\n",
              "\n",
              "    .dataframe thead th {\n",
              "        text-align: right;\n",
              "    }\n",
              "</style>\n",
              "<table border=\"1\" class=\"dataframe\">\n",
              "  <thead>\n",
              "    <tr style=\"text-align: right;\">\n",
              "      <th></th>\n",
              "      <th>Area (ABD) (µm2)</th>\n",
              "      <th>Area (Filled) (µm2)</th>\n",
              "      <th>Aspect Ratio</th>\n",
              "      <th>Average Blue</th>\n",
              "      <th>Average Green</th>\n",
              "      <th>Average Red</th>\n",
              "      <th>Calibration Image</th>\n",
              "      <th>Capture X</th>\n",
              "      <th>Capture Y</th>\n",
              "      <th>Ch1 Area</th>\n",
              "      <th>Ch1 Peak</th>\n",
              "      <th>Ch1 Width</th>\n",
              "      <th>Ch2 Area</th>\n",
              "      <th>Ch2 Peak</th>\n",
              "      <th>Ch2 Width</th>\n",
              "      <th>Ch2/Ch1 Ratio</th>\n",
              "      <th>Circle Fit</th>\n",
              "      <th>Circularity</th>\n",
              "      <th>Circularity (Hu)</th>\n",
              "      <th>Compactness</th>\n",
              "      <th>Convex Perimeter (µm)</th>\n",
              "      <th>Convexity</th>\n",
              "      <th>Diameter (ABD) (µm)</th>\n",
              "      <th>Diameter (ESD) (µm)</th>\n",
              "      <th>Diameter (FD) (µm)</th>\n",
              "      <th>Edge Gradient</th>\n",
              "      <th>Elapsed Time</th>\n",
              "      <th>Elongation</th>\n",
              "      <th>Feret Angle Max</th>\n",
              "      <th>Feret Angle Min</th>\n",
              "      <th>Fiber Curl</th>\n",
              "      <th>Fiber Straightness</th>\n",
              "      <th>Filter Score</th>\n",
              "      <th>Geodesic Aspect Ratio</th>\n",
              "      <th>Geodesic Length (µm)</th>\n",
              "      <th>Geodesic Thickness (µm)</th>\n",
              "      <th>Image Height</th>\n",
              "      <th>Image Width</th>\n",
              "      <th>Image X</th>\n",
              "      <th>Image Y</th>\n",
              "      <th>Intensity</th>\n",
              "      <th>Length (µm)</th>\n",
              "      <th>Particles Per Chain</th>\n",
              "      <th>Perimeter (µm)</th>\n",
              "      <th>Ratio Blue/Green</th>\n",
              "      <th>Ratio Red/Blue</th>\n",
              "      <th>Ratio Red/Green</th>\n",
              "      <th>Roughness</th>\n",
              "      <th>Scatter Area</th>\n",
              "      <th>Scatter Peak</th>\n",
              "      <th>Scatter Width</th>\n",
              "      <th>Sigma Intensity</th>\n",
              "      <th>Source Image</th>\n",
              "      <th>Sum Intensity</th>\n",
              "      <th>Symmetry</th>\n",
              "      <th>Transparency</th>\n",
              "      <th>Volume (ABD) (µm3)</th>\n",
              "      <th>Volume (ESD) (µm3)</th>\n",
              "      <th>Width (µm)</th>\n",
              "    </tr>\n",
              "  </thead>\n",
              "  <tbody>\n",
              "    <tr>\n",
              "      <th>0</th>\n",
              "      <td>19.7046</td>\n",
              "      <td>19.7046</td>\n",
              "      <td>0.4419</td>\n",
              "      <td>151.9286</td>\n",
              "      <td>149.5476</td>\n",
              "      <td>153.8333</td>\n",
              "      <td>1</td>\n",
              "      <td>574</td>\n",
              "      <td>900</td>\n",
              "      <td>0.0</td>\n",
              "      <td>0.7488</td>\n",
              "      <td>0.0</td>\n",
              "      <td>0.0</td>\n",
              "      <td>0.7488</td>\n",
              "      <td>0.0</td>\n",
              "      <td>0.0</td>\n",
              "      <td>0.3768</td>\n",
              "      <td>0.1710</td>\n",
              "      <td>0.2031</td>\n",
              "      <td>5.8480</td>\n",
              "      <td>58.7979</td>\n",
              "      <td>0.3500</td>\n",
              "      <td>5.0089</td>\n",
              "      <td>15.9441</td>\n",
              "      <td>5.0089</td>\n",
              "      <td>36.9216</td>\n",
              "      <td>6.536</td>\n",
              "      <td>16.3107</td>\n",
              "      <td>-15.0</td>\n",
              "      <td>-90.0</td>\n",
              "      <td>0.5863</td>\n",
              "      <td>0.6304</td>\n",
              "      <td>0.0</td>\n",
              "      <td>0.0613</td>\n",
              "      <td>35.8550</td>\n",
              "      <td>2.1982</td>\n",
              "      <td>23</td>\n",
              "      <td>31</td>\n",
              "      <td>0</td>\n",
              "      <td>0</td>\n",
              "      <td>151.0714</td>\n",
              "      <td>22.6033</td>\n",
              "      <td>2</td>\n",
              "      <td>76.1066</td>\n",
              "      <td>1.0159</td>\n",
              "      <td>1.0125</td>\n",
              "      <td>1.0287</td>\n",
              "      <td>1.2944</td>\n",
              "      <td>26.0978</td>\n",
              "      <td>76.367</td>\n",
              "      <td>15.0</td>\n",
              "      <td>16.8373</td>\n",
              "      <td>32</td>\n",
              "      <td>6345.0</td>\n",
              "      <td>0.3207</td>\n",
              "      <td>0.6858</td>\n",
              "      <td>65.79825</td>\n",
              "      <td>2122.272</td>\n",
              "      <td>10.2742</td>\n",
              "    </tr>\n",
              "    <tr>\n",
              "      <th>1</th>\n",
              "      <td>25.3345</td>\n",
              "      <td>25.3345</td>\n",
              "      <td>0.1565</td>\n",
              "      <td>153.3519</td>\n",
              "      <td>154.1296</td>\n",
              "      <td>151.5370</td>\n",
              "      <td>1</td>\n",
              "      <td>545</td>\n",
              "      <td>885</td>\n",
              "      <td>0.0</td>\n",
              "      <td>0.7488</td>\n",
              "      <td>0.0</td>\n",
              "      <td>0.0</td>\n",
              "      <td>0.7488</td>\n",
              "      <td>0.0</td>\n",
              "      <td>0.0</td>\n",
              "      <td>0.6098</td>\n",
              "      <td>0.3717</td>\n",
              "      <td>0.0790</td>\n",
              "      <td>2.6904</td>\n",
              "      <td>77.8769</td>\n",
              "      <td>0.3816</td>\n",
              "      <td>5.6795</td>\n",
              "      <td>21.9565</td>\n",
              "      <td>5.6795</td>\n",
              "      <td>54.5897</td>\n",
              "      <td>6.536</td>\n",
              "      <td>6.2933</td>\n",
              "      <td>35.0</td>\n",
              "      <td>-55.0</td>\n",
              "      <td>0.0000</td>\n",
              "      <td>1.3290</td>\n",
              "      <td>0.0</td>\n",
              "      <td>0.1589</td>\n",
              "      <td>25.2537</td>\n",
              "      <td>4.0128</td>\n",
              "      <td>29</td>\n",
              "      <td>35</td>\n",
              "      <td>33</td>\n",
              "      <td>0</td>\n",
              "      <td>153.2593</td>\n",
              "      <td>33.5625</td>\n",
              "      <td>2</td>\n",
              "      <td>58.5330</td>\n",
              "      <td>0.9950</td>\n",
              "      <td>0.9882</td>\n",
              "      <td>0.9832</td>\n",
              "      <td>0.7516</td>\n",
              "      <td>26.0978</td>\n",
              "      <td>76.367</td>\n",
              "      <td>15.0</td>\n",
              "      <td>22.5702</td>\n",
              "      <td>32</td>\n",
              "      <td>8276.0</td>\n",
              "      <td>0.5952</td>\n",
              "      <td>0.7413</td>\n",
              "      <td>95.92483</td>\n",
              "      <td>5542.261</td>\n",
              "      <td>4.7946</td>\n",
              "    </tr>\n",
              "    <tr>\n",
              "      <th>2</th>\n",
              "      <td>584.2990</td>\n",
              "      <td>584.2990</td>\n",
              "      <td>0.5579</td>\n",
              "      <td>162.7137</td>\n",
              "      <td>172.3056</td>\n",
              "      <td>168.8825</td>\n",
              "      <td>1</td>\n",
              "      <td>439</td>\n",
              "      <td>837</td>\n",
              "      <td>0.0</td>\n",
              "      <td>0.7488</td>\n",
              "      <td>0.0</td>\n",
              "      <td>0.0</td>\n",
              "      <td>0.7488</td>\n",
              "      <td>0.0</td>\n",
              "      <td>0.0</td>\n",
              "      <td>0.0000</td>\n",
              "      <td>0.0414</td>\n",
              "      <td>0.1586</td>\n",
              "      <td>24.1666</td>\n",
              "      <td>267.8660</td>\n",
              "      <td>0.1890</td>\n",
              "      <td>27.2755</td>\n",
              "      <td>82.3843</td>\n",
              "      <td>27.2755</td>\n",
              "      <td>26.8362</td>\n",
              "      <td>6.536</td>\n",
              "      <td>73.9080</td>\n",
              "      <td>-10.0</td>\n",
              "      <td>-80.0</td>\n",
              "      <td>1.4964</td>\n",
              "      <td>0.4006</td>\n",
              "      <td>0.0</td>\n",
              "      <td>0.0135</td>\n",
              "      <td>254.7755</td>\n",
              "      <td>3.4472</td>\n",
              "      <td>65</td>\n",
              "      <td>93</td>\n",
              "      <td>70</td>\n",
              "      <td>0</td>\n",
              "      <td>170.1902</td>\n",
              "      <td>102.0575</td>\n",
              "      <td>8</td>\n",
              "      <td>516.4453</td>\n",
              "      <td>0.9443</td>\n",
              "      <td>1.0379</td>\n",
              "      <td>0.9801</td>\n",
              "      <td>1.9280</td>\n",
              "      <td>26.0978</td>\n",
              "      <td>76.367</td>\n",
              "      <td>15.0</td>\n",
              "      <td>8.6058</td>\n",
              "      <td>32</td>\n",
              "      <td>79649.0</td>\n",
              "      <td>0.0662</td>\n",
              "      <td>0.6689</td>\n",
              "      <td>10624.70000</td>\n",
              "      <td>292773.400</td>\n",
              "      <td>51.3712</td>\n",
              "    </tr>\n",
              "    <tr>\n",
              "      <th>3</th>\n",
              "      <td>56.7434</td>\n",
              "      <td>56.7434</td>\n",
              "      <td>0.4824</td>\n",
              "      <td>160.3556</td>\n",
              "      <td>167.8444</td>\n",
              "      <td>163.0444</td>\n",
              "      <td>1</td>\n",
              "      <td>384</td>\n",
              "      <td>825</td>\n",
              "      <td>0.0</td>\n",
              "      <td>0.7488</td>\n",
              "      <td>0.0</td>\n",
              "      <td>0.0</td>\n",
              "      <td>0.7488</td>\n",
              "      <td>0.0</td>\n",
              "      <td>0.0</td>\n",
              "      <td>0.3368</td>\n",
              "      <td>0.1750</td>\n",
              "      <td>0.2395</td>\n",
              "      <td>5.7134</td>\n",
              "      <td>78.3936</td>\n",
              "      <td>0.3782</td>\n",
              "      <td>8.4999</td>\n",
              "      <td>22.2228</td>\n",
              "      <td>8.4999</td>\n",
              "      <td>16.7467</td>\n",
              "      <td>6.536</td>\n",
              "      <td>15.8863</td>\n",
              "      <td>-25.0</td>\n",
              "      <td>60.0</td>\n",
              "      <td>0.8445</td>\n",
              "      <td>0.5422</td>\n",
              "      <td>0.0</td>\n",
              "      <td>0.0629</td>\n",
              "      <td>51.7990</td>\n",
              "      <td>3.2606</td>\n",
              "      <td>30</td>\n",
              "      <td>34</td>\n",
              "      <td>165</td>\n",
              "      <td>0</td>\n",
              "      <td>165.5778</td>\n",
              "      <td>28.0829</td>\n",
              "      <td>2</td>\n",
              "      <td>110.1191</td>\n",
              "      <td>0.9554</td>\n",
              "      <td>1.0168</td>\n",
              "      <td>0.9714</td>\n",
              "      <td>1.4047</td>\n",
              "      <td>26.0978</td>\n",
              "      <td>76.367</td>\n",
              "      <td>15.0</td>\n",
              "      <td>4.7679</td>\n",
              "      <td>32</td>\n",
              "      <td>14902.0</td>\n",
              "      <td>0.0510</td>\n",
              "      <td>0.6175</td>\n",
              "      <td>321.54150</td>\n",
              "      <td>5746.382</td>\n",
              "      <td>14.3839</td>\n",
              "    </tr>\n",
              "    <tr>\n",
              "      <th>4</th>\n",
              "      <td>48.1883</td>\n",
              "      <td>48.1883</td>\n",
              "      <td>0.3312</td>\n",
              "      <td>160.5000</td>\n",
              "      <td>168.9634</td>\n",
              "      <td>165.7927</td>\n",
              "      <td>1</td>\n",
              "      <td>428</td>\n",
              "      <td>823</td>\n",
              "      <td>0.0</td>\n",
              "      <td>0.7488</td>\n",
              "      <td>0.0</td>\n",
              "      <td>0.0</td>\n",
              "      <td>0.7488</td>\n",
              "      <td>0.0</td>\n",
              "      <td>0.0</td>\n",
              "      <td>0.3563</td>\n",
              "      <td>0.2321</td>\n",
              "      <td>0.3154</td>\n",
              "      <td>4.3081</td>\n",
              "      <td>70.3237</td>\n",
              "      <td>0.5636</td>\n",
              "      <td>7.8330</td>\n",
              "      <td>19.4070</td>\n",
              "      <td>7.8330</td>\n",
              "      <td>25.3833</td>\n",
              "      <td>6.536</td>\n",
              "      <td>11.4468</td>\n",
              "      <td>-30.0</td>\n",
              "      <td>65.0</td>\n",
              "      <td>0.4250</td>\n",
              "      <td>0.7018</td>\n",
              "      <td>0.0</td>\n",
              "      <td>0.0874</td>\n",
              "      <td>41.9699</td>\n",
              "      <td>3.6665</td>\n",
              "      <td>24</td>\n",
              "      <td>35</td>\n",
              "      <td>201</td>\n",
              "      <td>0</td>\n",
              "      <td>167.1098</td>\n",
              "      <td>29.4528</td>\n",
              "      <td>2</td>\n",
              "      <td>91.2729</td>\n",
              "      <td>0.9499</td>\n",
              "      <td>1.0330</td>\n",
              "      <td>0.9812</td>\n",
              "      <td>1.2979</td>\n",
              "      <td>26.0978</td>\n",
              "      <td>76.367</td>\n",
              "      <td>15.0</td>\n",
              "      <td>6.7607</td>\n",
              "      <td>32</td>\n",
              "      <td>13703.0</td>\n",
              "      <td>0.4037</td>\n",
              "      <td>0.5964</td>\n",
              "      <td>251.63830</td>\n",
              "      <td>3827.113</td>\n",
              "      <td>8.9043</td>\n",
              "    </tr>\n",
              "  </tbody>\n",
              "</table>\n",
              "</div>"
            ],
            "text/plain": [
              "   Area (ABD) (µm2)  Area (Filled) (µm2)  ...  Volume (ESD) (µm3)  Width (µm)\n",
              "0           19.7046              19.7046  ...            2122.272     10.2742\n",
              "1           25.3345              25.3345  ...            5542.261      4.7946\n",
              "2          584.2990             584.2990  ...          292773.400     51.3712\n",
              "3           56.7434              56.7434  ...            5746.382     14.3839\n",
              "4           48.1883              48.1883  ...            3827.113      8.9043\n",
              "\n",
              "[5 rows x 59 columns]"
            ]
          },
          "metadata": {
            "tags": []
          },
          "execution_count": 58
        }
      ]
    },
    {
      "cell_type": "code",
      "metadata": {
        "id": "mzgiWiro561C",
        "colab": {
          "base_uri": "https://localhost:8080/"
        },
        "outputId": "edffd8d0-ff16-4977-af41-f002157fda40"
      },
      "source": [
        "# this one is the dataset suggested by Dr.Gomes\n",
        "df_new1 = pd.read_excel(excel_path, sheet_name=1)\n",
        "for i in df_new1.columns:\n",
        "    print(i)"
      ],
      "execution_count": null,
      "outputs": [
        {
          "output_type": "stream",
          "text": [
            "Particle ID\n",
            "Aspect Ratio\n",
            "Average Blue\n",
            "Average Green\n",
            "Average Red\n",
            "Circle Fit\n",
            "Circularity (Hu)\n",
            "Compactness\n",
            "Convexity\n",
            "Diameter (ABD) (µm)\n",
            "Diameter (ESD) (µm)\n",
            "Diameter (FD) (µm)\n",
            "Edge Gradient\n",
            "Feret Angle Max\n",
            "Feret Angle Min\n",
            "Geodesic Aspect Ratio\n",
            "Geodesic Length (µm)\n",
            "Geodesic Thickness (µm)\n",
            "Length (µm)\n",
            "Sum Intensity\n",
            "Symmetry\n",
            "Width (µm)\n"
          ],
          "name": "stdout"
        }
      ]
    },
    {
      "cell_type": "code",
      "metadata": {
        "id": "u8dNE009BJht"
      },
      "source": [
        "corrMatrix=df.corr()\n",
        "corrMatrix.loc[:,:] =  np.tril(corrMatrix, k=-1) # borrowed from Karl D's answer\n",
        "\n",
        "already_in = set()\n",
        "result = []\n",
        "for col in corrMatrix:\n",
        "    perfect_corr = corrMatrix[col][corrMatrix[col] >= 0.85].index.tolist()\n",
        "    if perfect_corr and col not in already_in:\n",
        "        already_in.update(set(perfect_corr))\n",
        "        perfect_corr.append(col)\n",
        "        result.append(perfect_corr)"
      ],
      "execution_count": null,
      "outputs": []
    },
    {
      "cell_type": "markdown",
      "metadata": {
        "id": "RaggqbxX_pNT"
      },
      "source": [
        "1. Area (ABD) (µm2) vs\tArea (Filled) (µm2), "
      ]
    },
    {
      "cell_type": "code",
      "metadata": {
        "id": "iAAWrdX71oj8",
        "colab": {
          "base_uri": "https://localhost:8080/",
          "height": 111
        },
        "outputId": "7e51610c-41b2-4dad-d076-4ae016a24557"
      },
      "source": [
        "df[[\"Area (ABD) (µm2)\", \"Area (Filled) (µm2)\"]].corr()"
      ],
      "execution_count": null,
      "outputs": [
        {
          "output_type": "execute_result",
          "data": {
            "text/html": [
              "<div>\n",
              "<style scoped>\n",
              "    .dataframe tbody tr th:only-of-type {\n",
              "        vertical-align: middle;\n",
              "    }\n",
              "\n",
              "    .dataframe tbody tr th {\n",
              "        vertical-align: top;\n",
              "    }\n",
              "\n",
              "    .dataframe thead th {\n",
              "        text-align: right;\n",
              "    }\n",
              "</style>\n",
              "<table border=\"1\" class=\"dataframe\">\n",
              "  <thead>\n",
              "    <tr style=\"text-align: right;\">\n",
              "      <th></th>\n",
              "      <th>Area (ABD) (µm2)</th>\n",
              "      <th>Area (Filled) (µm2)</th>\n",
              "    </tr>\n",
              "  </thead>\n",
              "  <tbody>\n",
              "    <tr>\n",
              "      <th>Area (ABD) (µm2)</th>\n",
              "      <td>1.000000</td>\n",
              "      <td>0.881328</td>\n",
              "    </tr>\n",
              "    <tr>\n",
              "      <th>Area (Filled) (µm2)</th>\n",
              "      <td>0.881328</td>\n",
              "      <td>1.000000</td>\n",
              "    </tr>\n",
              "  </tbody>\n",
              "</table>\n",
              "</div>"
            ],
            "text/plain": [
              "                     Area (ABD) (µm2)  Area (Filled) (µm2)\n",
              "Area (ABD) (µm2)             1.000000             0.881328\n",
              "Area (Filled) (µm2)          0.881328             1.000000"
            ]
          },
          "metadata": {
            "tags": []
          },
          "execution_count": 63
        }
      ]
    },
    {
      "cell_type": "markdown",
      "metadata": {
        "id": "V2BkFQ80-pXu"
      },
      "source": [
        "with a strong correlation,  I think (Filled) one make a little bit more sense from doc"
      ]
    },
    {
      "cell_type": "markdown",
      "metadata": {
        "id": "GM6WtdQN_sI9"
      },
      "source": [
        "2. Aspect Ratio obviously important"
      ]
    },
    {
      "cell_type": "markdown",
      "metadata": {
        "id": "VCCHWocA_zTJ"
      },
      "source": [
        "3. \"Average Blue\",\"Average Green\",\"Average Red\", color measurement"
      ]
    },
    {
      "cell_type": "markdown",
      "metadata": {
        "id": "mWSlBFjG_48o"
      },
      "source": [
        "4. Calibration Image"
      ]
    },
    {
      "cell_type": "code",
      "metadata": {
        "id": "mc-xC0CC_xfj",
        "colab": {
          "base_uri": "https://localhost:8080/",
          "height": 265
        },
        "outputId": "a74f940f-bb11-4a53-b5a5-586e4e7bc2fc"
      },
      "source": [
        "plt.hist(df[\"Calibration Image\"]);"
      ],
      "execution_count": null,
      "outputs": [
        {
          "output_type": "display_data",
          "data": {
            "image/png": "[encoded data removed]",
            "text/plain": [
              "<Figure size 432x288 with 1 Axes>"
            ]
          },
          "metadata": {
            "tags": [],
            "needs_background": "light"
          }
        }
      ]
    },
    {
      "cell_type": "code",
      "metadata": {
        "id": "N_APGtrtARu8",
        "colab": {
          "base_uri": "https://localhost:8080/"
        },
        "outputId": "1f2b4cdc-2502-4d6f-ffc0-7f12dd301b14"
      },
      "source": [
        "np.unique(df[\"Calibration Image\"], return_counts=True)"
      ],
      "execution_count": null,
      "outputs": [
        {
          "output_type": "execute_result",
          "data": {
            "text/plain": [
              "(array([1, 2, 3, 4, 5, 7]), array([19675,  9211,   560,   306,   128,    10]))"
            ]
          },
          "metadata": {
            "tags": []
          },
          "execution_count": 32
        }
      ]
    },
    {
      "cell_type": "markdown",
      "metadata": {
        "id": "irdx9n2HALF7"
      },
      "source": [
        "Hmmmm I don't really know what's that, documentation also gives nothing, TBD"
      ]
    },
    {
      "cell_type": "markdown",
      "metadata": {
        "id": "TucXZmglAftm"
      },
      "source": [
        "5. Capture X & Capture Y, I don't really think position is important"
      ]
    },
    {
      "cell_type": "markdown",
      "metadata": {
        "id": "CNvS_FfMBsyD"
      },
      "source": [
        "6. Ch1 Area,\tCh1 Peak,\tCh1 Width,\tCh2 Area,\tCh2 Peak,\tCh2 Width,\tCh2/Ch1 Ratio, Ch2/Ch1 Ratio flouresence group, deprecated for we are not using flouresence mode"
      ]
    },
    {
      "cell_type": "markdown",
      "metadata": {
        "id": "TlNJdVNCF629"
      },
      "source": [
        "7. 'Circle Fit','Circularity', 'Circularity (Hu)' 'Compactness' , Circularity group"
      ]
    },
    {
      "cell_type": "code",
      "metadata": {
        "id": "uK4ALLQMFqSH",
        "colab": {
          "base_uri": "https://localhost:8080/",
          "height": 142
        },
        "outputId": "59c484eb-436e-45a9-8f95-f7ed716354a2"
      },
      "source": [
        "df[['Circle Fit','Circularity', 'Circularity (Hu)']].corr()"
      ],
      "execution_count": null,
      "outputs": [
        {
          "output_type": "execute_result",
          "data": {
            "text/html": [
              "<div>\n",
              "<style scoped>\n",
              "    .dataframe tbody tr th:only-of-type {\n",
              "        vertical-align: middle;\n",
              "    }\n",
              "\n",
              "    .dataframe tbody tr th {\n",
              "        vertical-align: top;\n",
              "    }\n",
              "\n",
              "    .dataframe thead th {\n",
              "        text-align: right;\n",
              "    }\n",
              "</style>\n",
              "<table border=\"1\" class=\"dataframe\">\n",
              "  <thead>\n",
              "    <tr style=\"text-align: right;\">\n",
              "      <th></th>\n",
              "      <th>Circle Fit</th>\n",
              "      <th>Circularity</th>\n",
              "      <th>Circularity (Hu)</th>\n",
              "    </tr>\n",
              "  </thead>\n",
              "  <tbody>\n",
              "    <tr>\n",
              "      <th>Circle Fit</th>\n",
              "      <td>1.000000</td>\n",
              "      <td>0.898768</td>\n",
              "      <td>0.867390</td>\n",
              "    </tr>\n",
              "    <tr>\n",
              "      <th>Circularity</th>\n",
              "      <td>0.898768</td>\n",
              "      <td>1.000000</td>\n",
              "      <td>0.932885</td>\n",
              "    </tr>\n",
              "    <tr>\n",
              "      <th>Circularity (Hu)</th>\n",
              "      <td>0.867390</td>\n",
              "      <td>0.932885</td>\n",
              "      <td>1.000000</td>\n",
              "    </tr>\n",
              "  </tbody>\n",
              "</table>\n",
              "</div>"
            ],
            "text/plain": [
              "                  Circle Fit  Circularity  Circularity (Hu)\n",
              "Circle Fit          1.000000     0.898768          0.867390\n",
              "Circularity         0.898768     1.000000          0.932885\n",
              "Circularity (Hu)    0.867390     0.932885          1.000000"
            ]
          },
          "metadata": {
            "tags": []
          },
          "execution_count": 38
        }
      ]
    },
    {
      "cell_type": "markdown",
      "metadata": {
        "id": "3NlZIGYiG7O9"
      },
      "source": [
        "very strong correlations, Circularity (Hu) is stated in the document working better than Circularity, let's say keep both circle fit and Circularity (Hu), my math intuition told me the subtle relation between area and perimeter may give some iteresting features, compactness is inverse the circularity so also depleted"
      ]
    },
    {
      "cell_type": "markdown",
      "metadata": {
        "id": "WddaBTMzHwx9"
      },
      "source": [
        "8. 'Convexity' geometric feature from another pespective, let's keep it"
      ]
    },
    {
      "cell_type": "markdown",
      "metadata": {
        "id": "nwK10ju-IuwP"
      },
      "source": [
        "9. 'Diameter (ABD) (µm)', 'Diameter (ESD) (µm)', 'Diameter (FD) (µm)' diameter group"
      ]
    },
    {
      "cell_type": "code",
      "metadata": {
        "id": "unxFkI5QHvqJ",
        "colab": {
          "base_uri": "https://localhost:8080/",
          "height": 142
        },
        "outputId": "9f2db093-4e0f-4943-9e9b-058c85b0926b"
      },
      "source": [
        "df[['Diameter (ABD) (µm)', 'Diameter (ESD) (µm)', 'Diameter (FD) (µm)']].corr()"
      ],
      "execution_count": null,
      "outputs": [
        {
          "output_type": "execute_result",
          "data": {
            "text/html": [
              "<div>\n",
              "<style scoped>\n",
              "    .dataframe tbody tr th:only-of-type {\n",
              "        vertical-align: middle;\n",
              "    }\n",
              "\n",
              "    .dataframe tbody tr th {\n",
              "        vertical-align: top;\n",
              "    }\n",
              "\n",
              "    .dataframe thead th {\n",
              "        text-align: right;\n",
              "    }\n",
              "</style>\n",
              "<table border=\"1\" class=\"dataframe\">\n",
              "  <thead>\n",
              "    <tr style=\"text-align: right;\">\n",
              "      <th></th>\n",
              "      <th>Diameter (ABD) (µm)</th>\n",
              "      <th>Diameter (ESD) (µm)</th>\n",
              "      <th>Diameter (FD) (µm)</th>\n",
              "    </tr>\n",
              "  </thead>\n",
              "  <tbody>\n",
              "    <tr>\n",
              "      <th>Diameter (ABD) (µm)</th>\n",
              "      <td>1.000000</td>\n",
              "      <td>0.928951</td>\n",
              "      <td>0.964722</td>\n",
              "    </tr>\n",
              "    <tr>\n",
              "      <th>Diameter (ESD) (µm)</th>\n",
              "      <td>0.928951</td>\n",
              "      <td>1.000000</td>\n",
              "      <td>0.885236</td>\n",
              "    </tr>\n",
              "    <tr>\n",
              "      <th>Diameter (FD) (µm)</th>\n",
              "      <td>0.964722</td>\n",
              "      <td>0.885236</td>\n",
              "      <td>1.000000</td>\n",
              "    </tr>\n",
              "  </tbody>\n",
              "</table>\n",
              "</div>"
            ],
            "text/plain": [
              "                     Diameter (ABD) (µm)  ...  Diameter (FD) (µm)\n",
              "Diameter (ABD) (µm)             1.000000  ...            0.964722\n",
              "Diameter (ESD) (µm)             0.928951  ...            0.885236\n",
              "Diameter (FD) (µm)              0.964722  ...            1.000000\n",
              "\n",
              "[3 rows x 3 columns]"
            ]
          },
          "metadata": {
            "tags": []
          },
          "execution_count": 39
        }
      ]
    },
    {
      "cell_type": "markdown",
      "metadata": {
        "id": "MploGd0sJozX"
      },
      "source": [
        "These three value are generally delivering same info,  ABD one seems not working quite well in document, and ESD looks making more geometric sense. The document doesn't provide what FD is, let's just keep it for now, as a replacement of ABD (0.96 correlation is almost identical...)"
      ]
    },
    {
      "cell_type": "markdown",
      "metadata": {
        "id": "_4ptiYWpKGQh"
      },
      "source": [
        "10. 'Edge Gradient', look like a good feature, let's keep it"
      ]
    },
    {
      "cell_type": "markdown",
      "metadata": {
        "id": "uPDZvX65KkO8"
      },
      "source": [
        "11. elapsed time, sound like a ... water current speed. Please help me with a investigation.   \n",
        "a. if that will severly affect how clear the image is, please keep it, I think that may affect something.  \n",
        "b. otherwise drop it"
      ]
    },
    {
      "cell_type": "markdown",
      "metadata": {
        "id": "BCiihbkSK_WB"
      },
      "source": [
        "12. Elongation: inverse of Geodesic Aspect Ratio, for we are keeping Geodesic Aspect Ratio (will be discussed later), this one will be dropped"
      ]
    },
    {
      "cell_type": "markdown",
      "metadata": {
        "id": "63GF1fy2LOX3"
      },
      "source": [
        "13. 'Feret Angle Max', 'Feret Angle Min': both of these two seems doesn't make much sense individually, but the combination may give some interesting geometric information... Please keep."
      ]
    },
    {
      "cell_type": "markdown",
      "metadata": {
        "id": "T-gOYrx-Ma4h"
      },
      "source": [
        "14. 'Fiber Curl', 'Fiber Straightness', Curl index group, the kids of Feret and Geodesic family  \n",
        "${Fiber Straightness} = \\frac{1}{Fiber Curl + 1}$, let's just keep one here?"
      ]
    },
    {
      "cell_type": "markdown",
      "metadata": {
        "id": "clqZoN2SNe8X"
      },
      "source": [
        "15. Filter score"
      ]
    },
    {
      "cell_type": "code",
      "metadata": {
        "id": "DHjWDMlJNfyT",
        "colab": {
          "base_uri": "https://localhost:8080/",
          "height": 386
        },
        "outputId": "3f83ca92-3e38-4cc3-e94a-5742f64387fb"
      },
      "source": [
        "sns.displot(df[\"Filter Score\"])"
      ],
      "execution_count": null,
      "outputs": [
        {
          "output_type": "execute_result",
          "data": {
            "text/plain": [
              "<seaborn.axisgrid.FacetGrid at 0x7f914b5b7a58>"
            ]
          },
          "metadata": {
            "tags": []
          },
          "execution_count": 67
        },
        {
          "output_type": "display_data",
          "data": {
            "image/png": "[encoded data removed]",
            "text/plain": [
              "<Figure size 360x360 with 1 Axes>"
            ]
          },
          "metadata": {
            "tags": [],
            "needs_background": "light"
          }
        }
      ]
    },
    {
      "cell_type": "markdown",
      "metadata": {
        "id": "PDcFwD8GNtIG"
      },
      "source": [
        "There's no much information about it...Let's drop it?"
      ]
    },
    {
      "cell_type": "markdown",
      "metadata": {
        "id": "M2qs0ePxN1rN"
      },
      "source": [
        "16. 'Geodesic Aspect Ratio', 'Geodesic Length (µm)', 'Geodesic Thickness (µm)', Geodesic Family  \n",
        "Astonishing illustration on page 9, no reason not to keep it...  \n",
        "For we dropped Elongation on 12, Geodesic Aspect Ratio should be kept.  \n",
        "Geodesic Length and Geodesic Thickness seems will make some chemical reaction with Feret Measurements(Diameter (ESD), Length and Width), keep"
      ]
    },
    {
      "cell_type": "markdown",
      "metadata": {
        "id": "5d_NCTtCPTMW"
      },
      "source": [
        "17. 'Image Height', 'Image Width', for I'm keep the actual aspect ratio of the image, we can only keep one of it. (Actually drop both is acceptable...)"
      ]
    },
    {
      "cell_type": "markdown",
      "metadata": {
        "id": "kz7QujNkQOc5"
      },
      "source": [
        "18. 'Image X','Image Y', drop"
      ]
    },
    {
      "cell_type": "markdown",
      "metadata": {
        "id": "a9Sfz4-qQo9m"
      },
      "source": [
        "19. Intensity: I'll say not that important but my intuition tell me that we can keep it..."
      ]
    },
    {
      "cell_type": "markdown",
      "metadata": {
        "id": "nTFfKK2fQ_t-"
      },
      "source": [
        "20. 'Length (µm)', 'Width (µm)' : Feret Shape group, keep"
      ]
    },
    {
      "cell_type": "markdown",
      "metadata": {
        "id": "cuopSTblRbXa"
      },
      "source": [
        "21. Particles Per Chain"
      ]
    },
    {
      "cell_type": "code",
      "metadata": {
        "id": "fPDOdIj1RniO",
        "colab": {
          "base_uri": "https://localhost:8080/"
        },
        "outputId": "7d049cee-157d-4261-bfdc-bf86b4c72ff7"
      },
      "source": [
        "count = np.unique(df['Particles Per Chain'], return_counts=True)\n",
        "dict(zip(count[0],count[1]))"
      ],
      "execution_count": null,
      "outputs": [
        {
          "output_type": "execute_result",
          "data": {
            "text/plain": [
              "{1: 24952,\n",
              " 2: 3751,\n",
              " 3: 805,\n",
              " 4: 192,\n",
              " 5: 74,\n",
              " 6: 36,\n",
              " 7: 15,\n",
              " 8: 13,\n",
              " 9: 5,\n",
              " 10: 5,\n",
              " 11: 4,\n",
              " 12: 3,\n",
              " 13: 1,\n",
              " 14: 4,\n",
              " 15: 2,\n",
              " 16: 1,\n",
              " 17: 3,\n",
              " 18: 5,\n",
              " 19: 5,\n",
              " 20: 2,\n",
              " 21: 4,\n",
              " 22: 1,\n",
              " 23: 1,\n",
              " 24: 5,\n",
              " 27: 1}"
            ]
          },
          "metadata": {
            "tags": []
          },
          "execution_count": 41
        }
      ]
    },
    {
      "cell_type": "markdown",
      "metadata": {
        "id": "vDLPWHfTR9kr"
      },
      "source": [
        "Let's keep it, The number of particles will greatly affect the shape of images and will take bring some info as long as we maintains the same nearest neighbor distance setting across all the images."
      ]
    },
    {
      "cell_type": "markdown",
      "metadata": {
        "id": "BGlYLlDhSGUC"
      },
      "source": [
        "22. Perimeter (µm), please keep"
      ]
    },
    {
      "cell_type": "markdown",
      "metadata": {
        "id": "PZWpI3N2SiN_"
      },
      "source": [
        "23. 'Ratio Blue/Green', 'Ratio Red/Blue','Ratio Red/Green' RGB ratio group"
      ]
    },
    {
      "cell_type": "code",
      "metadata": {
        "id": "U7Ew_AM6ScBE",
        "colab": {
          "base_uri": "https://localhost:8080/",
          "height": 386
        },
        "outputId": "9dc9dea6-3cfd-440b-b796-acb7749a3e2b"
      },
      "source": [
        "sns.displot(df[\"Ratio Blue/Green\"])"
      ],
      "execution_count": null,
      "outputs": [
        {
          "output_type": "execute_result",
          "data": {
            "text/plain": [
              "<seaborn.axisgrid.FacetGrid at 0x7ff85d098e80>"
            ]
          },
          "metadata": {
            "tags": []
          },
          "execution_count": 42
        },
        {
          "output_type": "display_data",
          "data": {
            "image/png": "[encoded data removed]",
            "text/plain": [
              "<Figure size 360x360 with 1 Axes>"
            ]
          },
          "metadata": {
            "tags": [],
            "needs_background": "light"
          }
        }
      ]
    },
    {
      "cell_type": "code",
      "metadata": {
        "id": "1w_kEsi4RzNN",
        "colab": {
          "base_uri": "https://localhost:8080/",
          "height": 386
        },
        "outputId": "e222ca1c-e5a2-4698-928c-667193573c07"
      },
      "source": [
        "sns.displot(df[\"Ratio Red/Blue\"])"
      ],
      "execution_count": null,
      "outputs": [
        {
          "output_type": "execute_result",
          "data": {
            "text/plain": [
              "<seaborn.axisgrid.FacetGrid at 0x7ff85cda9630>"
            ]
          },
          "metadata": {
            "tags": []
          },
          "execution_count": 43
        },
        {
          "output_type": "display_data",
          "data": {
            "image/png": "[encoded data removed]",
            "text/plain": [
              "<Figure size 360x360 with 1 Axes>"
            ]
          },
          "metadata": {
            "tags": [],
            "needs_background": "light"
          }
        }
      ]
    },
    {
      "cell_type": "code",
      "metadata": {
        "id": "yvB_qdzRNspz",
        "colab": {
          "base_uri": "https://localhost:8080/",
          "height": 386
        },
        "outputId": "c87be742-2e09-4bc5-d128-5e075d3196d2"
      },
      "source": [
        "sns.displot(df[\"Ratio Red/Green\"])"
      ],
      "execution_count": null,
      "outputs": [
        {
          "output_type": "execute_result",
          "data": {
            "text/plain": [
              "<seaborn.axisgrid.FacetGrid at 0x7ff85a4a73c8>"
            ]
          },
          "metadata": {
            "tags": []
          },
          "execution_count": 44
        },
        {
          "output_type": "display_data",
          "data": {
            "image/png": "[encoded data removed]",
            "text/plain": [
              "<Figure size 360x360 with 1 Axes>"
            ]
          },
          "metadata": {
            "tags": [],
            "needs_background": "light"
          }
        }
      ]
    },
    {
      "cell_type": "code",
      "metadata": {
        "id": "8PDXM16GS4px",
        "colab": {
          "base_uri": "https://localhost:8080/",
          "height": 142
        },
        "outputId": "2f47b53c-70b9-403c-e345-ab34dbde5671"
      },
      "source": [
        "df[['Average Blue', 'Average Green', 'Average Red']].corr()"
      ],
      "execution_count": null,
      "outputs": [
        {
          "output_type": "execute_result",
          "data": {
            "text/html": [
              "<div>\n",
              "<style scoped>\n",
              "    .dataframe tbody tr th:only-of-type {\n",
              "        vertical-align: middle;\n",
              "    }\n",
              "\n",
              "    .dataframe tbody tr th {\n",
              "        vertical-align: top;\n",
              "    }\n",
              "\n",
              "    .dataframe thead th {\n",
              "        text-align: right;\n",
              "    }\n",
              "</style>\n",
              "<table border=\"1\" class=\"dataframe\">\n",
              "  <thead>\n",
              "    <tr style=\"text-align: right;\">\n",
              "      <th></th>\n",
              "      <th>Average Blue</th>\n",
              "      <th>Average Green</th>\n",
              "      <th>Average Red</th>\n",
              "    </tr>\n",
              "  </thead>\n",
              "  <tbody>\n",
              "    <tr>\n",
              "      <th>Average Blue</th>\n",
              "      <td>1.000000</td>\n",
              "      <td>0.97440</td>\n",
              "      <td>0.890556</td>\n",
              "    </tr>\n",
              "    <tr>\n",
              "      <th>Average Green</th>\n",
              "      <td>0.974400</td>\n",
              "      <td>1.00000</td>\n",
              "      <td>0.940810</td>\n",
              "    </tr>\n",
              "    <tr>\n",
              "      <th>Average Red</th>\n",
              "      <td>0.890556</td>\n",
              "      <td>0.94081</td>\n",
              "      <td>1.000000</td>\n",
              "    </tr>\n",
              "  </tbody>\n",
              "</table>\n",
              "</div>"
            ],
            "text/plain": [
              "               Average Blue  Average Green  Average Red\n",
              "Average Blue       1.000000        0.97440     0.890556\n",
              "Average Green      0.974400        1.00000     0.940810\n",
              "Average Red        0.890556        0.94081     1.000000"
            ]
          },
          "metadata": {
            "tags": []
          },
          "execution_count": 45
        }
      ]
    },
    {
      "cell_type": "code",
      "metadata": {
        "id": "QF_drAHGJWPT",
        "colab": {
          "base_uri": "https://localhost:8080/",
          "height": 142
        },
        "outputId": "3e85bef6-ebe6-44cb-b022-37e6677b8004"
      },
      "source": [
        "df[['Ratio Blue/Green', 'Ratio Red/Blue','Ratio Red/Green']].corr()"
      ],
      "execution_count": null,
      "outputs": [
        {
          "output_type": "execute_result",
          "data": {
            "text/html": [
              "<div>\n",
              "<style scoped>\n",
              "    .dataframe tbody tr th:only-of-type {\n",
              "        vertical-align: middle;\n",
              "    }\n",
              "\n",
              "    .dataframe tbody tr th {\n",
              "        vertical-align: top;\n",
              "    }\n",
              "\n",
              "    .dataframe thead th {\n",
              "        text-align: right;\n",
              "    }\n",
              "</style>\n",
              "<table border=\"1\" class=\"dataframe\">\n",
              "  <thead>\n",
              "    <tr style=\"text-align: right;\">\n",
              "      <th></th>\n",
              "      <th>Ratio Blue/Green</th>\n",
              "      <th>Ratio Red/Blue</th>\n",
              "      <th>Ratio Red/Green</th>\n",
              "    </tr>\n",
              "  </thead>\n",
              "  <tbody>\n",
              "    <tr>\n",
              "      <th>Ratio Blue/Green</th>\n",
              "      <td>1.000000</td>\n",
              "      <td>-0.733953</td>\n",
              "      <td>-0.425076</td>\n",
              "    </tr>\n",
              "    <tr>\n",
              "      <th>Ratio Red/Blue</th>\n",
              "      <td>-0.733953</td>\n",
              "      <td>1.000000</td>\n",
              "      <td>0.919241</td>\n",
              "    </tr>\n",
              "    <tr>\n",
              "      <th>Ratio Red/Green</th>\n",
              "      <td>-0.425076</td>\n",
              "      <td>0.919241</td>\n",
              "      <td>1.000000</td>\n",
              "    </tr>\n",
              "  </tbody>\n",
              "</table>\n",
              "</div>"
            ],
            "text/plain": [
              "                  Ratio Blue/Green  Ratio Red/Blue  Ratio Red/Green\n",
              "Ratio Blue/Green          1.000000       -0.733953        -0.425076\n",
              "Ratio Red/Blue           -0.733953        1.000000         0.919241\n",
              "Ratio Red/Green          -0.425076        0.919241         1.000000"
            ]
          },
          "metadata": {
            "tags": []
          },
          "execution_count": 46
        }
      ]
    },
    {
      "cell_type": "code",
      "metadata": {
        "id": "hn5mnNEnTTHG",
        "colab": {
          "base_uri": "https://localhost:8080/",
          "height": 235
        },
        "outputId": "79d2e2c8-1f3a-4780-e285-9bb172cf8ff6"
      },
      "source": [
        "df[['Average Blue', 'Average Green', 'Average Red','Ratio Blue/Green', 'Ratio Red/Blue','Ratio Red/Green']].corr()"
      ],
      "execution_count": null,
      "outputs": [
        {
          "output_type": "execute_result",
          "data": {
            "text/html": [
              "<div>\n",
              "<style scoped>\n",
              "    .dataframe tbody tr th:only-of-type {\n",
              "        vertical-align: middle;\n",
              "    }\n",
              "\n",
              "    .dataframe tbody tr th {\n",
              "        vertical-align: top;\n",
              "    }\n",
              "\n",
              "    .dataframe thead th {\n",
              "        text-align: right;\n",
              "    }\n",
              "</style>\n",
              "<table border=\"1\" class=\"dataframe\">\n",
              "  <thead>\n",
              "    <tr style=\"text-align: right;\">\n",
              "      <th></th>\n",
              "      <th>Average Blue</th>\n",
              "      <th>Average Green</th>\n",
              "      <th>Average Red</th>\n",
              "      <th>Ratio Blue/Green</th>\n",
              "      <th>Ratio Red/Blue</th>\n",
              "      <th>Ratio Red/Green</th>\n",
              "    </tr>\n",
              "  </thead>\n",
              "  <tbody>\n",
              "    <tr>\n",
              "      <th>Average Blue</th>\n",
              "      <td>1.000000</td>\n",
              "      <td>0.974400</td>\n",
              "      <td>0.890556</td>\n",
              "      <td>-0.044122</td>\n",
              "      <td>0.082378</td>\n",
              "      <td>0.094348</td>\n",
              "    </tr>\n",
              "    <tr>\n",
              "      <th>Average Green</th>\n",
              "      <td>0.974400</td>\n",
              "      <td>1.000000</td>\n",
              "      <td>0.940810</td>\n",
              "      <td>-0.264068</td>\n",
              "      <td>0.239786</td>\n",
              "      <td>0.179566</td>\n",
              "    </tr>\n",
              "    <tr>\n",
              "      <th>Average Red</th>\n",
              "      <td>0.890556</td>\n",
              "      <td>0.940810</td>\n",
              "      <td>1.000000</td>\n",
              "      <td>-0.367004</td>\n",
              "      <td>0.520646</td>\n",
              "      <td>0.496393</td>\n",
              "    </tr>\n",
              "    <tr>\n",
              "      <th>Ratio Blue/Green</th>\n",
              "      <td>-0.044122</td>\n",
              "      <td>-0.264068</td>\n",
              "      <td>-0.367004</td>\n",
              "      <td>1.000000</td>\n",
              "      <td>-0.733953</td>\n",
              "      <td>-0.425076</td>\n",
              "    </tr>\n",
              "    <tr>\n",
              "      <th>Ratio Red/Blue</th>\n",
              "      <td>0.082378</td>\n",
              "      <td>0.239786</td>\n",
              "      <td>0.520646</td>\n",
              "      <td>-0.733953</td>\n",
              "      <td>1.000000</td>\n",
              "      <td>0.919241</td>\n",
              "    </tr>\n",
              "    <tr>\n",
              "      <th>Ratio Red/Green</th>\n",
              "      <td>0.094348</td>\n",
              "      <td>0.179566</td>\n",
              "      <td>0.496393</td>\n",
              "      <td>-0.425076</td>\n",
              "      <td>0.919241</td>\n",
              "      <td>1.000000</td>\n",
              "    </tr>\n",
              "  </tbody>\n",
              "</table>\n",
              "</div>"
            ],
            "text/plain": [
              "                  Average Blue  Average Green  ...  Ratio Red/Blue  Ratio Red/Green\n",
              "Average Blue          1.000000       0.974400  ...        0.082378         0.094348\n",
              "Average Green         0.974400       1.000000  ...        0.239786         0.179566\n",
              "Average Red           0.890556       0.940810  ...        0.520646         0.496393\n",
              "Ratio Blue/Green     -0.044122      -0.264068  ...       -0.733953        -0.425076\n",
              "Ratio Red/Blue        0.082378       0.239786  ...        1.000000         0.919241\n",
              "Ratio Red/Green       0.094348       0.179566  ...        0.919241         1.000000\n",
              "\n",
              "[6 rows x 6 columns]"
            ]
          },
          "metadata": {
            "tags": []
          },
          "execution_count": 47
        }
      ]
    },
    {
      "cell_type": "markdown",
      "metadata": {
        "id": "aSbxuZ3rTfBT"
      },
      "source": [
        "let's keep them for now, I hope they will convey some color informations.(More for the clustering, probably will drop when applied to NN)"
      ]
    },
    {
      "cell_type": "markdown",
      "metadata": {
        "id": "XLPRgC5uT0If"
      },
      "source": [
        "24. Roughness: Keep it? I hope it can take some information about inner hole."
      ]
    },
    {
      "cell_type": "markdown",
      "metadata": {
        "id": "mc3IFP75VnEZ"
      },
      "source": [
        "25. 'Scatter Area', 'Scatter Peak','Scatter Width': Scatter detector"
      ]
    },
    {
      "cell_type": "code",
      "metadata": {
        "id": "BnnSfivYVKbo",
        "colab": {
          "base_uri": "https://localhost:8080/",
          "height": 142
        },
        "outputId": "859a8fd7-f219-4a05-cc2a-c2278567e3cb"
      },
      "source": [
        "df[['Scatter Area', 'Scatter Peak','Scatter Width']].corr()"
      ],
      "execution_count": null,
      "outputs": [
        {
          "output_type": "execute_result",
          "data": {
            "text/html": [
              "<div>\n",
              "<style scoped>\n",
              "    .dataframe tbody tr th:only-of-type {\n",
              "        vertical-align: middle;\n",
              "    }\n",
              "\n",
              "    .dataframe tbody tr th {\n",
              "        vertical-align: top;\n",
              "    }\n",
              "\n",
              "    .dataframe thead th {\n",
              "        text-align: right;\n",
              "    }\n",
              "</style>\n",
              "<table border=\"1\" class=\"dataframe\">\n",
              "  <thead>\n",
              "    <tr style=\"text-align: right;\">\n",
              "      <th></th>\n",
              "      <th>Scatter Area</th>\n",
              "      <th>Scatter Peak</th>\n",
              "      <th>Scatter Width</th>\n",
              "    </tr>\n",
              "  </thead>\n",
              "  <tbody>\n",
              "    <tr>\n",
              "      <th>Scatter Area</th>\n",
              "      <td>1.000000</td>\n",
              "      <td>0.454632</td>\n",
              "      <td>0.991207</td>\n",
              "    </tr>\n",
              "    <tr>\n",
              "      <th>Scatter Peak</th>\n",
              "      <td>0.454632</td>\n",
              "      <td>1.000000</td>\n",
              "      <td>0.387685</td>\n",
              "    </tr>\n",
              "    <tr>\n",
              "      <th>Scatter Width</th>\n",
              "      <td>0.991207</td>\n",
              "      <td>0.387685</td>\n",
              "      <td>1.000000</td>\n",
              "    </tr>\n",
              "  </tbody>\n",
              "</table>\n",
              "</div>"
            ],
            "text/plain": [
              "               Scatter Area  Scatter Peak  Scatter Width\n",
              "Scatter Area       1.000000      0.454632       0.991207\n",
              "Scatter Peak       0.454632      1.000000       0.387685\n",
              "Scatter Width      0.991207      0.387685       1.000000"
            ]
          },
          "metadata": {
            "tags": []
          },
          "execution_count": 48
        }
      ]
    },
    {
      "cell_type": "code",
      "metadata": {
        "id": "pxvcUZfWV7pH",
        "colab": {
          "base_uri": "https://localhost:8080/",
          "height": 386
        },
        "outputId": "71255fd4-6af2-46bb-d0fb-bf7fa2ae92c6"
      },
      "source": [
        "sns.displot(df['Scatter Area'])"
      ],
      "execution_count": null,
      "outputs": [
        {
          "output_type": "execute_result",
          "data": {
            "text/plain": [
              "<seaborn.axisgrid.FacetGrid at 0x7ff85a99ce80>"
            ]
          },
          "metadata": {
            "tags": []
          },
          "execution_count": 49
        },
        {
          "output_type": "display_data",
          "data": {
            "image/png": "[encoded data removed]",
            "text/plain": [
              "<Figure size 360x360 with 1 Axes>"
            ]
          },
          "metadata": {
            "tags": [],
            "needs_background": "light"
          }
        }
      ]
    },
    {
      "cell_type": "code",
      "metadata": {
        "id": "QeSEVQATWEkK",
        "colab": {
          "base_uri": "https://localhost:8080/",
          "height": 386
        },
        "outputId": "420ee3fc-2558-4da7-a7ba-5a1ccbeaf424"
      },
      "source": [
        "sns.displot(df['Scatter Peak'])"
      ],
      "execution_count": null,
      "outputs": [
        {
          "output_type": "execute_result",
          "data": {
            "text/plain": [
              "<seaborn.axisgrid.FacetGrid at 0x7ff85a4a0240>"
            ]
          },
          "metadata": {
            "tags": []
          },
          "execution_count": 50
        },
        {
          "output_type": "display_data",
          "data": {
            "image/png": "[encoded data removed]",
            "text/plain": [
              "<Figure size 360x360 with 1 Axes>"
            ]
          },
          "metadata": {
            "tags": [],
            "needs_background": "light"
          }
        }
      ]
    },
    {
      "cell_type": "code",
      "metadata": {
        "id": "nZGo9nEJWKfy",
        "colab": {
          "base_uri": "https://localhost:8080/",
          "height": 386
        },
        "outputId": "3796b499-4df2-4f05-dba1-782e57a52c76"
      },
      "source": [
        "sns.displot(df['Scatter Width'])"
      ],
      "execution_count": null,
      "outputs": [
        {
          "output_type": "execute_result",
          "data": {
            "text/plain": [
              "<seaborn.axisgrid.FacetGrid at 0x7ff85afe3f28>"
            ]
          },
          "metadata": {
            "tags": []
          },
          "execution_count": 51
        },
        {
          "output_type": "display_data",
          "data": {
            "image/png": "[encoded data removed]",
            "text/plain": [
              "<Figure size 360x360 with 1 Axes>"
            ]
          },
          "metadata": {
            "tags": [],
            "needs_background": "light"
          }
        }
      ]
    },
    {
      "cell_type": "markdown",
      "metadata": {
        "id": "7PWz6DViV2ol"
      },
      "source": [
        "There's no much useful explanation in the documentation. Let's say TBD..."
      ]
    },
    {
      "cell_type": "markdown",
      "metadata": {
        "id": "WwuxJUI8WfF0"
      },
      "source": [
        "26. 'Sigma Intensity' , the std. dev of Intensity... How hemogeneous the structure is. Keep it for now."
      ]
    },
    {
      "cell_type": "markdown",
      "metadata": {
        "id": "SKctf2xIWyL3"
      },
      "source": [
        "27. Source Image, Dropped"
      ]
    },
    {
      "cell_type": "markdown",
      "metadata": {
        "id": "sQw4GobNXJDH"
      },
      "source": [
        "28. 'Sum Intensity' Dropped, average Intensity is already included"
      ]
    },
    {
      "cell_type": "markdown",
      "metadata": {
        "id": "cAgi-MKBXRLe"
      },
      "source": [
        "29. 'Symmetry': important shape feature, keep"
      ]
    },
    {
      "cell_type": "markdown",
      "metadata": {
        "id": "DmpT6k9aXguX"
      },
      "source": [
        "30. Transparency  \n",
        "From the definition. Have it kept"
      ]
    },
    {
      "cell_type": "markdown",
      "metadata": {
        "id": "7YZUY0uw0Rvb"
      },
      "source": [
        "31. Volume (ABD), Volume (ESD):   \n",
        "this value is the volume of a sphere with diameter = ABD Diameter or ESD Diameter, we've already have Diameters, dropped."
      ]
    }
  ]
}